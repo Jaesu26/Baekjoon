{
 "cells": [
  {
   "cell_type": "markdown",
   "id": "7f33bb83-9a42-4811-87d9-c9e71c3a74a1",
   "metadata": {},
   "source": [
    "# 그리디 알고리즘 "
   ]
  },
  {
   "cell_type": "markdown",
   "id": "4921bba0-d4c7-494a-b43b-9ddf5c7a8e3e",
   "metadata": {},
   "source": [
    "## 동전 0\n",
    "\n",
    "`-` 준규가 가지고 있는 동전은 총 N종류이고, 각각의 동전을 매우 많이 가지고 있다\n",
    "\n",
    "`-` 동전을 적절히 사용해서 그 가치의 합을 K로 만들려고 한다\n",
    "\n",
    "`-` 이때 필요한 동전 개수의 최솟값을 구하는 프로그램을 작성하시오\n",
    "\n",
    "`-` 동전의 가치 Ai가 오름차순으로 주어진다 (1 ≤ Ai ≤ 1,000,000, A1 = 1, i ≥ 2인 경우에 Ai는 Ai-1의 배수)"
   ]
  },
  {
   "cell_type": "code",
   "execution_count": 15,
   "id": "55faa1af-8da1-44e1-852d-e28838dedb5e",
   "metadata": {},
   "outputs": [
    {
     "name": "stdin",
     "output_type": "stream",
     "text": [
      " 5\n",
      " 1\n",
      " 5\n",
      " 5\n",
      " 2\n",
      " 4\n"
     ]
    },
    {
     "name": "stdout",
     "output_type": "stream",
     "text": [
      "1\n",
      "2\n",
      "4\n",
      "5\n",
      "5\n"
     ]
    }
   ],
   "source": [
    "import sys\n",
    "arr = [0] * 10001\n",
    "\n",
    "N = int(input())\n",
    "for i in range(N):\n",
    "    arr[int(sys.stdin.readline())] += 1\n",
    "\n",
    "for i in range(1, 10001):\n",
    "    for j in range(arr[i]):\n",
    "        print(i)\n",
    "\n",
    "# input\n",
    "# 5\n",
    "# 1\n",
    "# 5\n",
    "# 5\n",
    "# 2\n",
    "# 4"
   ]
  },
  {
   "cell_type": "markdown",
   "id": "cd71a9a7-55b8-42d4-b62b-9fc8c33cf3d4",
   "metadata": {},
   "source": [
    "## 잃어버린 괄호\n",
    "\n",
    "`-` 세준이는 양수와 +, -, 그리고 괄호를 가지고 식을 만들고 난 후 괄호를 모두 지웠다 \n",
    "\n",
    "`-` 그리고 나서 세준이는 괄호를 적절히 쳐서 이 식의 값을 최소로 만들려고 한다"
   ]
  },
  {
   "cell_type": "markdown",
   "id": "811d09d7-9177-41c0-8447-425d2ae8c7af",
   "metadata": {},
   "source": [
    "`-` 한번만 `minus 기호`가 나오면 그 뒤에 수는 모두 빼기로 만들 수 있음"
   ]
  },
  {
   "cell_type": "markdown",
   "id": "5a114505-66b2-48bb-93b7-4d0e6aa246bd",
   "metadata": {},
   "source": [
    "`-` 50 - 70 + 80 + 90 ---> 50 - (70 + 80 + 90)"
   ]
  },
  {
   "cell_type": "markdown",
   "id": "d68efbaa-5d4e-40a4-aa31-bb25ddb52404",
   "metadata": {},
   "source": [
    "`-` `join()` , `split()` , `replace()` , `map()` 함수 사용"
   ]
  },
  {
   "cell_type": "code",
   "execution_count": 1,
   "id": "b184f0c4-4ef2-49a2-8bab-bafb8f55f78f",
   "metadata": {},
   "outputs": [
    {
     "name": "stdin",
     "output_type": "stream",
     "text": [
      " 00000+00000+00000+00000+00000+0\n"
     ]
    },
    {
     "name": "stdout",
     "output_type": "stream",
     "text": [
      "0\n"
     ]
    }
   ],
   "source": [
    "string = str(input())\n",
    "s1 = string.split('-')\n",
    "s2 = s1[0]\n",
    "s2 = s2.split('+')\n",
    "s2 = list(map(int, s2))\n",
    "\n",
    "s3 = s1[1:]\n",
    "if len(s3) > 0:\n",
    "    s3 = '-'.join(s3)\n",
    "    s3 = s3.replace('-', '+')\n",
    "    s3 = s3.split('+')\n",
    "    s3 = list(map(int, s3))\n",
    "    print(sum(s2) - sum(s3))\n",
    "    \n",
    "else: \n",
    "    print(sum(s2))\n",
    "   \n",
    " \n",
    "# input\n",
    "# 00000+00000+00000+00000+00000+0"
   ]
  },
  {
   "cell_type": "markdown",
   "id": "655fd5f8-1840-491c-99a5-5239ba202888",
   "metadata": {
    "tags": []
   },
   "source": [
    "## ATM\n",
    "\n",
    "- 문제 출처: [백준 11399번](https://www.acmicpc.net/problem/11399)"
   ]
  },
  {
   "cell_type": "markdown",
   "id": "c9b6d9f7-8da7-4692-80d4-cd0f4e8077fd",
   "metadata": {},
   "source": [
    "`-` times를 sort()함수를 통해 오름차순으로 정렬\n",
    "\n",
    "`-` 최소값 $=$ 첫 번째 원소 $\\times$ N $+$ 두 번째 원소 $\\times$ (N-1) $+ \\dots +$ 마지막 원소 $\\times$ 1"
   ]
  },
  {
   "cell_type": "code",
   "execution_count": 1,
   "id": "551f838f-1f1c-4299-8d2d-83742f1fb726",
   "metadata": {},
   "outputs": [
    {
     "name": "stdin",
     "output_type": "stream",
     "text": [
      " 5\n",
      " 3 1 4 3 2\n"
     ]
    },
    {
     "name": "stdout",
     "output_type": "stream",
     "text": [
      "32\n"
     ]
    }
   ],
   "source": [
    "N = int(input())\n",
    "times = list(map(int, input().split()))\n",
    "times.sort()\n",
    "print(sum([times[i] * (N - i) for i in range(N)]))\n",
    "\n",
    "# input\n",
    "# 5\n",
    "# 3 1 4 3 2"
   ]
  },
  {
   "cell_type": "markdown",
   "id": "2b018f86-01db-43ac-8c76-79f430f05d62",
   "metadata": {
    "tags": []
   },
   "source": [
    "## 주유소\n",
    "\n",
    "- 문제 출처: [백준 13305번](https://www.acmicpc.net/problem/13305](https://www.acmicpc.net/problem/13305)"
   ]
  },
  {
   "cell_type": "markdown",
   "id": "30fa8bbc-5f80-4e62-8cee-788846310c9d",
   "metadata": {},
   "source": [
    "`-` 현재 주유소 가격보다 더 싼 주유소가 있는 곳 까지의 거리만큼만 구매하여 더 싼 주유소까지 감\n",
    "\n",
    "`-` 정확히는 현재 주유소 가격보다 더 싼 주유소 중 가장 거리가 가까운 주유소\n",
    "\n",
    "`-` 더 싼 주유소 까지 갔으면 그 주유소보다 더 싼 주유소가 있는 곳 까지의 거리만큼만 구매하여 더 싼 주유소까지 감\n",
    "\n",
    "`-` 만약 더 싼 곳이 없으면 목표지점까지 남은 거리 만큼 기름을 구매 \n",
    "\n",
    "`-` 이를 도착할 때 까지 반복함\n",
    "\n",
    "`-` 백준 문제 예시를 보자\n",
    "\n",
    "1. 기름 가격이 현재 5원 보다 더 싼 곳은 2원이므로 5원에서 2원까지 거리인 2km를 갈 수 있을 정도만 기름을 구매함(2L 구매)\n",
    "\n",
    "2. 현재 2원 보다 더 싼 곳은 1원이므로 2원에서 1원까지 거리인 4km를 갈 수 있을 정도만 기름을 구매함(4L 구매)\n",
    "\n",
    "3. 목표 지점에 도착했으므로 끝 "
   ]
  },
  {
   "cell_type": "code",
   "execution_count": 25,
   "id": "3c996bd9-a8d3-495c-811c-9a8f253d551e",
   "metadata": {},
   "outputs": [
    {
     "name": "stdin",
     "output_type": "stream",
     "text": [
      " 4\n",
      " 3 3 4\n",
      " 1 1 1 1\n"
     ]
    },
    {
     "name": "stdout",
     "output_type": "stream",
     "text": [
      "10\n"
     ]
    }
   ],
   "source": [
    "N = int(input())\n",
    "lengths = list(map(int, input().split()))\n",
    "oils = list(map(int, input().split()))\n",
    "\n",
    "idx = 0\n",
    "costs = 0\n",
    "\n",
    "for i in range(1, len(oils)):\n",
    "    if oils[i] <= oils[idx]:\n",
    "        costs += oils[idx] * lengths[i - 1]\n",
    "        idx = i\n",
    "    \n",
    "    else:\n",
    "        costs += oils[idx] * lengths[i - 1]\n",
    "        \n",
    "print(costs)\n",
    "\n",
    "# input\n",
    "# 4\n",
    "# 3 3 4\n",
    "# 1 1 1 1"
   ]
  },
  {
   "cell_type": "markdown",
   "id": "dca73929-0959-4590-8b07-99a3bf88505e",
   "metadata": {},
   "source": [
    "`-` 아래는 더 간결한 코드(중복 부분 제거)"
   ]
  },
  {
   "cell_type": "code",
   "execution_count": 26,
   "id": "21d17eef-6b53-46f3-91d4-6905eebdc0af",
   "metadata": {},
   "outputs": [
    {
     "name": "stdin",
     "output_type": "stream",
     "text": [
      " 4\n",
      " 3 3 4\n",
      " 1 1 1 1\n"
     ]
    },
    {
     "name": "stdout",
     "output_type": "stream",
     "text": [
      "10\n"
     ]
    }
   ],
   "source": [
    "N = int(input())\n",
    "lengths = list(map(int, input().split()))\n",
    "oils = list(map(int, input().split()))\n",
    "\n",
    "idx = 0\n",
    "costs = 0\n",
    "\n",
    "for i in range(1, len(oils)):\n",
    "    costs += oils[idx] * lengths[i - 1]\n",
    "    \n",
    "    if oils[i] <= oils[idx]:\n",
    "        idx = i\n",
    "        \n",
    "print(costs)\n",
    "\n",
    "# input은 위와 동일"
   ]
  },
  {
   "cell_type": "markdown",
   "id": "e9cbfee8-5a30-48cf-9ffb-434d9990d4a6",
   "metadata": {},
   "source": [
    "## 주유소 문제 디버깅 "
   ]
  },
  {
   "cell_type": "markdown",
   "id": "ab746c57-bf19-44d2-9291-4006937daa5b",
   "metadata": {},
   "source": [
    "`-` 아래는 잘못된 코드임"
   ]
  },
  {
   "cell_type": "markdown",
   "id": "2494af69-880d-456d-b211-13247a9484d4",
   "metadata": {},
   "source": [
    "```python\n",
    "N = int(input())\n",
    "lengths = list(map(int, input().split()))\n",
    "oils = list(map(int, input().split()))\n",
    "\n",
    "idx = 0\n",
    "costs = 0\n",
    "\n",
    "for i in range(1, len(oils)):\n",
    "    if oils[i] <= oils[idx]:\n",
    "        costs += oils[idx] * lengths[idx]\n",
    "        idx = i\n",
    "    \n",
    "    else:\n",
    "        costs += oils[idx] * lengths[i - 1]\n",
    "        \n",
    "print(costs)\n",
    "```\n",
    "`-` 아래 코드가 잘못됨\n",
    "```python\n",
    "costs += oils[idx] * lengths[idx]\n",
    "```\n",
    "`-` 아래 코드로 수정해야함\n",
    "```python\n",
    "lengths[idx] ---> lengths[i - 1]\n",
    "```"
   ]
  },
  {
   "cell_type": "markdown",
   "id": "0215f4bf-7374-44ee-926d-f10a62c70d25",
   "metadata": {},
   "source": [
    "`-` 디버깅 하면서 느낀점 : 다양한 상황을 고려하고 [$\\star$]`종이에 쓰면서`[$\\star$] 어떻게 흘러가는지 분석하자"
   ]
  },
  {
   "cell_type": "markdown",
   "id": "3b226590-7af8-46ef-aa4c-ac18fe83b0a6",
   "metadata": {},
   "source": [
    "## 회의실 배정\n",
    "\n",
    "- 문제 출처:[백준 1913번](https://www.acmicpc.net/problem/1931)"
   ]
  },
  {
   "cell_type": "markdown",
   "id": "beda5326-42d7-496f-83bf-3a1e4a022432",
   "metadata": {},
   "source": [
    "`-` 가장 빨리 끝나는 회의를 배정하는 것이 best임, 시작 시간과 종료 시간이 같은 것이 있을 수 있으므로 종료 시간이 같다면 먼저 시작하는 것을 앞에 배정함\n",
    "\n",
    "`-` 그 회의를 마치고 다음 회의를 고를 때 마찬가지로 가장 빨리 끝나는 회의를 배정함 \n",
    "\n",
    "`-` 이를 반복하면 된다\n",
    "\n",
    "`-` [1, 1]과 [0, 1]이 있다면 [0, 1]을 배정하고 [1, 1]을 해야한다\n",
    "\n",
    "`-` 순서를 바꾸면 1개가 최대임\n",
    "\n",
    "`-` 처음에는 종료 시간만 고려해서 틀림 ---> 디버깅을 합시다\n",
    "\n",
    "`-` 그래서 생각한 것이 \"아!, 시작 시간과 종료 시간 간격이 짧은 것이 더 좋겠지([5, 8]보단 [6, 8]더 좋을 거야)\"라고 했음\n",
    "\n",
    "`-` 그래서 종료 시간 기준으로 오름차순 정렬한 후 시작 시간 기준으로 내림차순 정렬을 했다. 하지만 위에서 다룬 [1, 1]과 [0, 1]의 상황에 의해 틀림\n",
    "\n",
    "`-` 종료 시간기준으로 오름차순 정렬한 후 이를 시작 시간 기준으로 오름차순 정렬해야 함 ---> 맞았습니다"
   ]
  },
  {
   "cell_type": "code",
   "execution_count": 2,
   "id": "b6a0b769-294e-4af5-9890-af0d805fe9f3",
   "metadata": {},
   "outputs": [
    {
     "name": "stdin",
     "output_type": "stream",
     "text": [
      " 11\n",
      " 1 4\n",
      " 3 5\n",
      " 0 6\n",
      " 5 7\n",
      " 3 8\n",
      " 5 9\n",
      " 6 10\n",
      " 8 11\n",
      " 8 12\n",
      " 2 13\n",
      " 12 14\n"
     ]
    },
    {
     "name": "stdout",
     "output_type": "stream",
     "text": [
      "4\n"
     ]
    }
   ],
   "source": [
    "meeting_time = []\n",
    "N = int(input())\n",
    "for i in range(N):\n",
    "    meeting_time.append(list(map(int, input().split())))\n",
    "    \n",
    "meeting_num = 1\n",
    "meeting_time.sort(key = lambda finish_time: (finish_time[1], finish_time[0])) ## 종료 시간을 기준으로 오름차순 정렬한 것을 시작 시간을 기준으로 오름차순 정렬\n",
    "fir_meeting = meeting_time[0]\n",
    "\n",
    "for i in range(1, N):\n",
    "    if meeting_time[i][0] >= fir_meeting[1]:\n",
    "        meeting_num += 1\n",
    "        fir_meeting = meeting_time[i]\n",
    "\n",
    "print(meeting_num)\n",
    "\n",
    "# input\n",
    "# 11\n",
    "# 1 4\n",
    "# 3 5\n",
    "# 0 6\n",
    "# 5 7\n",
    "# 3 8\n",
    "# 5 9\n",
    "# 6 10\n",
    "# 8 11\n",
    "# 8 12\n",
    "# 2 13\n",
    "# 12 14"
   ]
  },
  {
   "cell_type": "markdown",
   "id": "e9e944bb-f216-48b3-af0f-150545f1e984",
   "metadata": {
    "tags": []
   },
   "source": [
    "## A $\\to$ B \n",
    "\n",
    "- 문제 출처: [백준 16953번](https://www.acmicpc.net/problem/16953)"
   ]
  },
  {
   "cell_type": "markdown",
   "id": "5c5cb38c-347d-4ead-a2e7-dbd5287ed045",
   "metadata": {},
   "source": [
    "`-` 미로찾기 할 때 출발지점에서 시작하는 것보다 도착지점에서 시작하는 것이 미로 탈출을 더 쉽게 만듦\n",
    "\n",
    "`-` 이런 느낌으로 접근하자\n",
    "\n",
    "`-` A에서 B를 만드는 것 보다 역으로 B에서 A를 만든다고 생각하는 거임\n",
    "\n",
    "`-` 만약 B가 x자리수인데 x자리 숫자가 1이라면 A에서 B를 만드는 과정에서 A가 x-1자리인 순간이 있었고 그 때 마지막 자리에 1을 추가하는 연산을 했음을 알 수 있음\n",
    "\n",
    "`-` 이런식으로 생각하면 만약 B의 x자리의 숫자가 1이 아닌 홀수다 ---> A 에서 B를 만드는 것이 불가능\n",
    "\n",
    "`-` 만약 B의 x자리의 숫자가 짝수다 ---> 일단 B를 2로 나누자\n",
    "\n",
    "`-` 위에서 한 것을 반복하면 됨 \n",
    "\n",
    "`-` 그리디 알고리즘으로 풀었는데 BFS로도 풀 수 있다고 함 ---> 나중에 그래프 탐색 문제도 풀어보자"
   ]
  },
  {
   "cell_type": "code",
   "execution_count": 47,
   "id": "f8e6f3e5-54c1-4ca6-82b7-f3a5d0eec820",
   "metadata": {},
   "outputs": [
    {
     "name": "stdin",
     "output_type": "stream",
     "text": [
      " 2 162\n"
     ]
    },
    {
     "name": "stdout",
     "output_type": "stream",
     "text": [
      "5\n"
     ]
    }
   ],
   "source": [
    "A, B = map(int, input().split())\n",
    "num = 1\n",
    "\n",
    "while B != A:\n",
    "    if str(B)[-1] == '1' and B > A:\n",
    "        B = int(str(B)[:-1])\n",
    "        num += 1\n",
    "        \n",
    "    elif B % 2 == 1 or B < A:\n",
    "        num = -1\n",
    "        break\n",
    "        \n",
    "    else:\n",
    "        B = B // 2\n",
    "        num += 1\n",
    "        \n",
    "print(num)\n",
    "\n",
    "# input\n",
    "# 2 162"
   ]
  },
  {
   "cell_type": "markdown",
   "id": "aec401af-468e-4c92-a04c-d15e7d095daf",
   "metadata": {},
   "source": [
    "## 카드 합체 놀이\n",
    "- 문제 출처: [백준 15903번](https://www.acmicpc.net/problem/15903)"
   ]
  },
  {
   "cell_type": "markdown",
   "id": "0253a1a1-be10-404a-85eb-539834cd9dc8",
   "metadata": {},
   "source": [
    "`-` 가장 작은 카드 2장을 뽑아서 더한 값으로 초기화 함\n",
    "\n",
    "`-` 또 다시 전체 카드 중에서 가장 작은 카드 2장을 뽑아서 더한 값으로 초기화 함\n",
    "\n",
    "`-` 위를 반복하면 됨\n",
    "\n",
    "`-` 힙(Heap)자료 구조로 풀 수 있다고 함 ---> 공부하기"
   ]
  },
  {
   "cell_type": "code",
   "execution_count": 6,
   "id": "6143c404-9a7d-4cef-98e2-0a8f6129370c",
   "metadata": {},
   "outputs": [
    {
     "name": "stdin",
     "output_type": "stream",
     "text": [
      " 3 1\n",
      " 3 2 6\n"
     ]
    },
    {
     "name": "stdout",
     "output_type": "stream",
     "text": [
      "16\n"
     ]
    }
   ],
   "source": [
    "n, m = map(int, input().split())\n",
    "cards = list(map(int, input().split()))\n",
    "cards.sort()\n",
    "cnt = 0\n",
    "\n",
    "while cnt < m:\n",
    "    cards[0] = cards[1] = cards[0] + cards[1]\n",
    "    cards.sort()\n",
    "    cnt += 1\n",
    "\n",
    "print(sum(cards))\n",
    "\n",
    "# input\n",
    "# 3 1\n",
    "# 3 2 6"
   ]
  },
  {
   "cell_type": "code",
   "execution_count": null,
   "id": "1f4639e9-846d-46d2-beb6-66282b97d33c",
   "metadata": {},
   "outputs": [],
   "source": []
  }
 ],
 "metadata": {
  "kernelspec": {
   "display_name": "Python 3 (ipykernel)",
   "language": "python",
   "name": "python3"
  },
  "language_info": {
   "codemirror_mode": {
    "name": "ipython",
    "version": 3
   },
   "file_extension": ".py",
   "mimetype": "text/x-python",
   "name": "python",
   "nbconvert_exporter": "python",
   "pygments_lexer": "ipython3",
   "version": "3.8.11"
  }
 },
 "nbformat": 4,
 "nbformat_minor": 5
}
