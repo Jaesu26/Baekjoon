{
 "cells": [
  {
   "cell_type": "markdown",
   "id": "b2968dee-af21-4da4-9b0e-6e99c1626fea",
   "metadata": {},
   "source": [
    "# 그래프 탐색(Graph Search)"
   ]
  },
  {
   "cell_type": "markdown",
   "id": "cae64447-7861-455f-9e5a-837ef7996642",
   "metadata": {},
   "source": [
    "## DFS와 BFS\n",
    "\n",
    "- 문제 출처: [백준 1260번](https://www.acmicpc.net/problem/1260)"
   ]
  },
  {
   "cell_type": "markdown",
   "id": "d3d4772e-a7e9-4ce1-b374-f8a607bf2a75",
   "metadata": {},
   "source": [
    "`-` 시작 노드가 그래프에 없는 경우를 고려해줘야 한다(이것때문에 2번 틀림...)"
   ]
  },
  {
   "cell_type": "code",
   "execution_count": 66,
   "id": "94bac957-4e75-4788-85e7-c4ad926260e5",
   "metadata": {},
   "outputs": [
    {
     "name": "stdin",
     "output_type": "stream",
     "text": [
      " 4 5 1\n",
      " 1 2\n",
      " 1 3\n",
      " 1 4\n",
      " 2 4\n",
      " 3 4\n"
     ]
    },
    {
     "name": "stdout",
     "output_type": "stream",
     "text": [
      "1 2 4 3\n",
      "1 2 3 4\n"
     ]
    }
   ],
   "source": [
    "def DFS(graph, start_node):\n",
    "    visited = {} ## 방문한 노드\n",
    "    stack = [] ## 방문할 노드\n",
    "    stack.append(start_node) ## 방문할 노드에 시작 노드 추가\n",
    "    if start_node not in graph: ## 시작 노드가 그래프에 존재하지 않는다면\n",
    "        return [start_node]\n",
    "\n",
    "    while stack:  ## 방문할 노드가 있다면(리스트에 원소가 있으면 True)\n",
    "        node = stack.pop() ## 마지막 노드 추가(스택 구조 사용) \n",
    "        if node not in visited:  ## 만약 아직 방문한 노드가 아니라면\n",
    "            visited[node] = True  ## 이제 방문했으니까 방문한 노드에 추가\n",
    "            stack.extend(reversed(graph[node])) ## 방문한 노드에 연결된 노드를 탐색해보자\n",
    "            \n",
    "    return list(visited.keys()) ## 방문한 노드를 반환\n",
    "\n",
    "def BFS(graph, start_node):\n",
    "    from collections import deque ## deque패키지 import\n",
    "    visited = {} ## 방문한 노드\n",
    "    queue = deque() ## 방문할 노드\n",
    "    queue.append(start_node) ## 방문할 노드에 시작 노드 추가\n",
    "    if start_node not in graph: ## 시작 노드가 그래프에 존재하지 않는다면\n",
    "        return [start_node]\n",
    "\n",
    "    while queue:  ## 방문할 노드가 있다면(리스트에 원소가 있으면 True)\n",
    "        node = queue.popleft() ## 첫번째 노드 추가(큐 구조 사용)   \n",
    "        if node not in visited:  ## 만약 아직 방문한 노드가 아니라면\n",
    "            visited[node] = True  ## 이제 방문했으니까 방문한 노드에 추가\n",
    "            queue.extend(graph[node]) ## 방문한 노드에 연결된 노드를 탐색해보자\n",
    "\n",
    "    return list(visited.keys()) ## 방문한 노드를 반환\n",
    "\n",
    "N, M, V = map(int, input().split())\n",
    "graph = {}\n",
    "\n",
    "for _ in range(M):\n",
    "    keys = list(map(int, input().split()))\n",
    "    for i in range(2):\n",
    "        if keys[-i] in graph:\n",
    "            graph[keys[-i]] = sorted(list(set(graph[keys[-i]] + [keys[-(i+1)]]))) ## grahp에 처음 등장하는 노드가 아닐 때\n",
    "        else:\n",
    "            graph[keys[-i]] = [keys[-(i+1)]] ## grahp에 처음 등장하는 노드일 때\n",
    "            \n",
    "print(*DFS(graph, V))\n",
    "print(*BFS(graph, V))\n",
    "\n",
    "# input\n",
    "# 4 5 1\n",
    "# 1 2\n",
    "# 1 3\n",
    "# 1 4\n",
    "# 2 4\n",
    "# 3 4"
   ]
  },
  {
   "cell_type": "markdown",
   "id": "4866181c-7af8-4473-8baf-20d4500f1458",
   "metadata": {},
   "source": [
    "## 바이러스\n",
    "\n",
    "- 문제 출처: [백준 2606번](https://www.acmicpc.net/problem/2606)"
   ]
  },
  {
   "cell_type": "markdown",
   "id": "f448fd58-de88-4ea6-ae04-130aaf6778fc",
   "metadata": {},
   "source": [
    "`-` DFS로 풀자"
   ]
  },
  {
   "cell_type": "code",
   "execution_count": 68,
   "id": "8b074e74-0f57-487e-928d-be37c6f3bb76",
   "metadata": {},
   "outputs": [
    {
     "name": "stdin",
     "output_type": "stream",
     "text": [
      " 7\n",
      " 6\n",
      " 1 2\n",
      " 2 3\n",
      " 1 5\n",
      " 5 2\n",
      " 5 6\n",
      " 4 7\n"
     ]
    },
    {
     "name": "stdout",
     "output_type": "stream",
     "text": [
      "4\n"
     ]
    }
   ],
   "source": [
    "def DFS(graph, start_node = 1):\n",
    "    visited = {} ## 탐색한 노드는 1번 컴퓨터와 직접적이든 간접적이든 연결되었다\n",
    "    stack = [start_node]\n",
    "    if start_node not in graph: ## 1번 컴퓨터와 연결된 컴퓨터가 없다면\n",
    "        return [start_node]\n",
    "    \n",
    "    while stack:\n",
    "        node = stack.pop()\n",
    "        if node not in visited:\n",
    "            visited[node] = True\n",
    "            stack.extend(reversed(graph[node]))\n",
    "            \n",
    "    return list(visited.keys())\n",
    "\n",
    "graph = {}\n",
    "N = int(input())\n",
    "M = int(input())\n",
    "\n",
    "for _ in range(M):\n",
    "    keys = list(map(int, input().split()))\n",
    "    for i in range(2):\n",
    "        if keys[-i] in graph:\n",
    "            graph[keys[-i]] = sorted(list(set(graph[keys[-i]] + [keys[-(i+1)]]))) ## grahp에 처음 등장하는 노드가 아닐 때\n",
    "        else:\n",
    "            graph[keys[-i]] = [keys[-(i+1)]] ## grahp에 처음 등장하는 노드일 때\n",
    "\n",
    "print(len(DFS(graph)) - 1) ## 1번 컴퓨터를 통해 바이러스에 걸리는 컴퓨터 수이므로 1번 컴퓨터는 제외한다\n",
    "\n",
    "# input\n",
    "# 7\n",
    "# 6\n",
    "# 1 2\n",
    "# 2 3\n",
    "# 1 5\n",
    "# 5 2\n",
    "# 5 6\n",
    "# 4 7"
   ]
  },
  {
   "cell_type": "markdown",
   "id": "0de78edb-c7ee-497a-9773-04afe6803440",
   "metadata": {},
   "source": [
    "## 미로 탐색\n",
    "\n",
    "- 문제 출처: [백준 2178번](https://www.acmicpc.net/problem/2178)"
   ]
  },
  {
   "cell_type": "markdown",
   "id": "8a072dfd-2c29-4371-be90-57c2b02d4691",
   "metadata": {},
   "source": [
    "`-` $(1,1)$부터 시작하여 $(N,M)$까지 이동할 수 있는 좌표들을 BFS를 통해 최단 거리를 구하면 된다\n",
    "\n",
    "`-` BFS이므로(각각의 경로에서 출발하여 한 칸씩 움직인다) 제일 먼저 $(N,M)$에 도착하는 경로가 최단 거리이므로 그 때의 거리를 기록하면 된다"
   ]
  },
  {
   "cell_type": "code",
   "execution_count": 115,
   "id": "8874d702-4c90-4784-afcc-ce246ea96aed",
   "metadata": {},
   "outputs": [
    {
     "name": "stdin",
     "output_type": "stream",
     "text": [
      " 2 25\n",
      " 1011101110111011101110111\n",
      " 1110111011101110111011101\n"
     ]
    },
    {
     "name": "stdout",
     "output_type": "stream",
     "text": [
      "38\n"
     ]
    }
   ],
   "source": [
    "from collections import deque\n",
    "N, M = map(int, input().split())\n",
    "ls = [list(input()) for _ in range(N)]\n",
    "graph = {}\n",
    "\n",
    "## BFS\n",
    "def BFS(graph : dict, start_node : list) -> int:\n",
    "    visited = {}\n",
    "    queue = deque(start_node) \n",
    "    distance = 0\n",
    "    \n",
    "    while queue:\n",
    "        queue_size = len(queue) ## 현재 queue에 저장된 개수(같은 높이의 정점)\n",
    "        while queue_size:  ## 같은 높이의 정점들을 탐색, 값이 0이 되면 다음 층(높이) 탐색\n",
    "            node = queue.popleft()\n",
    "            if node[-1] == '1': ## 1은 이동 가능, 0은 이동 불가능  \n",
    "                if node == (N-1, M-1, '1'): ## 목표지점(N,M)에 도착\n",
    "                    return (distance + 1) ## 최단 경로 = 이때의 그래프에서 좌표의 높이\n",
    "                if node not in visited:\n",
    "                    visited[node] = True\n",
    "                    queue.extend(graph[node])\n",
    "            queue_size -= 1\n",
    "        distance += 1              \n",
    "    return False \n",
    "\n",
    "## 무지성 그래프(미로) 기록\n",
    "for i in range(N):\n",
    "    for j in range(M):\n",
    "        if i == 0:  ## 1층\n",
    "            if j == 0:\n",
    "                graph[(i, j, ls[i][j])] = [(i, j+1, ls[i][j+1]), (i+1, j, ls[i+1][j])] ## 우, 하\n",
    "            elif j == M-1:\n",
    "                graph[(i, j, ls[i][j])] = [(i, j-1, ls[i][j-1]), (i+1, j, ls[i+1][j])] ## 좌, 하\n",
    "            else:\n",
    "                graph[(i, j, ls[i][j])] = [(i, j-1, ls[i][j-1]), (i, j+1, ls[i][j+1]), (i+1, j, ls[i+1][j])] ## 좌, 우, 하\n",
    "                \n",
    "        elif i == N-1:  ## 마지막층\n",
    "            if j == 0:\n",
    "                graph[(i, j, ls[i][j])] = [(i, j+1, ls[i][j+1]), (i-1, j, ls[i-1][j])] ## 우, 상\n",
    "            elif j == M-1:\n",
    "                graph[(i, j, ls[i][j])] = [(i, j-1, ls[i][j-1]), (i-1, j, ls[i-1][j])] ## 좌, 상\n",
    "            else:\n",
    "                graph[(i, j, ls[i][j])] = [(i, j-1, ls[i][j-1]), (i, j+1, ls[i][j+1]), (i-1, j, ls[i-1][j])] ## 좌, 우, 상\n",
    "                \n",
    "        else:  ## 나머지층\n",
    "            if j == 0:\n",
    "                graph[(i, j, ls[i][j])] = [(i, j+1, ls[i][j+1]), (i-1, j, ls[i-1][j]), (i+1, j, ls[i+1][j])] ## 우, 상, 하\n",
    "            elif j == M-1:\n",
    "                graph[(i, j, ls[i][j])] = [(i, j-1, ls[i][j-1]), (i-1, j, ls[i-1][j]), (i+1, j, ls[i+1][j])] ## 좌, 상, 하\n",
    "            else:\n",
    "                graph[(i, j, ls[i][j])] = [(i, j-1, ls[i][j-1]), (i, j+1, ls[i][j+1]), (i-1, j, ls[i-1][j]), (i+1, j, ls[i+1][j])] ## 좌, 우, 상, 하\n",
    "                \n",
    "print(BFS(graph, [(0, 0, '1')]))\n",
    "\n",
    "# input\n",
    "# 2 25\n",
    "# 1011101110111011101110111\n",
    "# 1110111011101110111011101"
   ]
  },
  {
   "cell_type": "markdown",
   "id": "2f6d8e41-2391-4a45-a10b-c87ce84ab146",
   "metadata": {},
   "source": [
    "## 숨바꼭질\n",
    "\n",
    "- 문제 출처: [백준 1697번](https://www.acmicpc.net/problem/1697)"
   ]
  },
  {
   "cell_type": "markdown",
   "id": "5816d25f-1159-40cb-a96b-0ee5b63c0110",
   "metadata": {
    "tags": []
   },
   "source": [
    "`-` [미로 탐색](https://www.acmicpc.net/problem/2178)과 비슷한 유형(그래프 탐색)의 문제이다\n",
    "\n",
    "`-` 위의 미로 탐색 문제를 풀 땐 그래프 기록을 힘들게 했는데\n",
    "\n",
    "`-` 이번 문제는 미로 탐색 문제보다 간단하게 풀어보자\n",
    "\n",
    "`-` `수빈의 위치 > 동생의 위치`이면 `최단 시간`은 `수빈의 위치 - 동생의 위치`이다\n",
    "\n",
    "`-` $\\text{dp[$x$]}$는 처음 수빈의 위치 $N$에서 $x$까지 가는데 걸리는 최소 시간으로 정의하고 BFS 수행하면 된다\n",
    "\n",
    "`-` 이미 방문한 위치를 또 방문하는 경우는 다음 사이클로 넘어가면 되는데 왜냐하면 BFS이므로 먼저 방문했을때의 시간이 더 짧거나 같다\n",
    "\n",
    "- 보충 설명\n",
    "\n",
    "`-` 처음 수빈의 위치에서 시작하여 사이클이 주어지고 해당 위치에서 $(+1,\\, -1,\\, \\times 2)$를 수행하는데\n",
    "\n",
    "`-` 해당 위치에서 $(+1,\\, -1,\\, \\times 2)$ 사이클을 마쳐야 계산된 숫자에 대해서 사이클을 시작한다\n",
    "\n",
    "`-` ex) 수빈의 위치는 $5$이고 동생의 위치는 $11$이라고 하자\n",
    "\n",
    "`-` $5$에 대해 $(+1,\\, -1,\\, \\times 2)$을 실행함 ---> $(6, 4, 10)$이 되고 해당 위치에 시간을 기록한다\n",
    "\n",
    "`-` $(6, 4, 10)$에 대해 차례대로 $(+1,\\, -1,\\, \\times 2)$을 실행함 ---> $(7, 5, 12), (5, 3, 8), (11, 9, 20)$이 된다\n",
    "\n",
    "`-` $10$에서 $+1$을 수행하여 $11$이 되었으므로 탐색을 마친다\n",
    "\n",
    "`-` ??? : 시간이 더 짧은 경로가 있을 수 있지 않나?\n",
    "\n",
    "`-` 수빈의 위치를 루트 노드라 하면 동생의 위치까지의 경로들을 그래프로 나타낼 수 있는데\n",
    "\n",
    "`-` 최단 시간을 가지는 경로는 그래프상에서 제일 낮은 레벨(해당 노드의 높이)에 위치한다(위의 예시에서는 2)\n",
    "\n",
    "`-` 동생의 위치까지 가는 모든 경로의 출발점은 수빈의 위치(루트 노드)이고 각각의 경로마다 다음 위치로 한 칸씩 이동한다(너비 우선 탐색)\n",
    "\n",
    "`-` 동일하게 한 칸씩 이동하므로 제일 먼저 동생의 위치에 도착한 경로는 자연스럽게 최단 시간을 가지게 된다"
   ]
  },
  {
   "cell_type": "code",
   "execution_count": 34,
   "id": "a1a2ae6b-c3de-47e8-83b9-7db8955470dd",
   "metadata": {},
   "outputs": [
    {
     "name": "stdin",
     "output_type": "stream",
     "text": [
      " 5 17\n"
     ]
    },
    {
     "name": "stdout",
     "output_type": "stream",
     "text": [
      "4\n"
     ]
    }
   ],
   "source": [
    "from collections import deque\n",
    "N, K = map(int, input().split()) ## 수빈의 위치, 동생의 위치\n",
    "queue = deque([N]) \n",
    "dp = [0] * 100002 ## 0~100002\n",
    "\n",
    "while True: ## 목표지점에 다다르기 전까지\n",
    "    ## while not dp[K]로만 판단하는 것은 틀렸는데 왜냐하면 N=K인 경우 return값이 2이기 때문이다(-1하고 다시 +1)\n",
    "    node = queue.popleft()\n",
    "    if node == K: ## 목표지점에 도착 ## N=k인 경우 입구컷\n",
    "        break\n",
    "\n",
    "    if node < K: ## x+1\n",
    "        if dp[node+1] == 0: ## 처음 방문했는지 판단 ## 처음 방문한 경로가 최단 경로이므로 이미 방문했다면 방문할 필요가 없다(시간 감소)\n",
    "            dp[node+1] = dp[node] + 1 \n",
    "            queue.append(node+1)\n",
    "            \n",
    "    if node*2 <= K + 1: \n",
    "    ## ex) n = 50, k = 99 : n*2 -> n-1\n",
    "    ## ex) n = 50, k = 98 : n*2 -> n-1 -> n-1 ---> 3 sec but n-1 -> n*2 is 2 sec\n",
    "        if dp[node*2] == 0: ## 처음 방문함\n",
    "            dp[node*2] = dp[node] + 1\n",
    "            queue.append(node*2)\n",
    "    \n",
    "    ## x-1\n",
    "    if node > 0: ## node가 0인데 뒤로가는건 말도 안된다, 적어도 1은 되야함\n",
    "        if dp[node-1] == 0: ## 처음 방문함\n",
    "            dp[node-1] = dp[node] + 1\n",
    "            queue.append(node-1)\n",
    "            \n",
    "print(dp[K])\n",
    "\n",
    "# input\n",
    "# 5 17"
   ]
  },
  {
   "cell_type": "markdown",
   "id": "392935e1-bb32-40cb-8178-e6d2402372f2",
   "metadata": {},
   "source": [
    "## 숨바꼭질 4\n",
    "\n",
    "- 문제 출처: [백준 13913번](https://www.acmicpc.net/problem/13913)"
   ]
  },
  {
   "cell_type": "markdown",
   "id": "0280d0c5-f15a-4ec7-8306-bbed391380ff",
   "metadata": {},
   "source": [
    "`-` 기존의 [숨바꼭질](https://www.acmicpc.net/problem/1697) 문제에서 경로만 추가하면 된다\n",
    "\n",
    "`-` 경로는 해시테이블을 이용해서 구한다(연결리스트?)"
   ]
  },
  {
   "cell_type": "code",
   "execution_count": 32,
   "id": "0a212e53-9ab7-46f5-a0fb-4641708a047a",
   "metadata": {},
   "outputs": [
    {
     "name": "stdin",
     "output_type": "stream",
     "text": [
      " 5 17\n"
     ]
    },
    {
     "name": "stdout",
     "output_type": "stream",
     "text": [
      "4\n",
      "5 10 9 18 17\n"
     ]
    }
   ],
   "source": [
    "from collections import deque\n",
    "N, K = map(int, input().split()) ## 수빈의 위치, 동생의 위치\n",
    "k = K\n",
    "route = deque([K])\n",
    "queue = deque([N]) \n",
    "dp = [0] * 100002 ## 0~100002\n",
    "visited = {} ## 해시테이블 \n",
    "## 만약 N = 5, K = 11이라면 5 -> 10 -> 11 경로가 최단시간이다\n",
    "## 이때 visited에는 전의 경로를 기록한다 ---> visited[11] = 10, visited[10] = 5 (연결리스트??)\n",
    "## route는 K(11) -> visited[K] -> visited[visited[K]]의 역순이다\n",
    "\n",
    "while True: ## 목표지점에 다다르기 전까지\n",
    "    node = queue.popleft()\n",
    "    if node == K: ## 목표지점에 도착\n",
    "        break\n",
    "    \n",
    "    if node < K: ## x+1\n",
    "        if dp[node+1] == 0: ## 처음 방문함\n",
    "            dp[node+1] = dp[node] + 1 \n",
    "            visited[node+1] = node \n",
    "            queue.append(node+1)\n",
    "            \n",
    "    if node*2 <= K + 1: \n",
    "    ## ex) n = 50, k = 99 : n*2 -> n-1\n",
    "    ## ex) n = 50, k = 98 : n*2 -> n-1 -> n-1 ---> 3 sec but n-1 -> n*2 is 2 sec\n",
    "        if dp[node*2] == 0: ## 처음 방문함\n",
    "            dp[node*2] = dp[node] + 1\n",
    "            visited[node*2] = node\n",
    "            queue.append(node*2)\n",
    "    \n",
    "    ## x-1\n",
    "    if node > 0: ## node가 0인데 뒤로가는건 말도 안된다, 적어도 1은 되야함\n",
    "        if dp[node-1] == 0: ## 처음 방문함\n",
    "            dp[node-1] = dp[node] + 1\n",
    "            visited[node-1] = node\n",
    "            queue.append(node-1)\n",
    "            \n",
    "## 경로 \n",
    "while N != k:\n",
    "    route.appendleft(visited[k])\n",
    "    k = visited[k]\n",
    "\n",
    "print(dp[K])\n",
    "print(*route)\n",
    "\n",
    "# input\n",
    "# 5 17"
   ]
  },
  {
   "cell_type": "markdown",
   "id": "d4862faa-511b-4731-b9ba-d28c19001c90",
   "metadata": {},
   "source": [
    "## 최단경로\n",
    "\n",
    "- 문제 출처: [백준 1753번](https://www.acmicpc.net/problem/1753)"
   ]
  },
  {
   "cell_type": "markdown",
   "id": "e6994b36-19fc-455e-be0f-460e7bf38ef1",
   "metadata": {},
   "source": [
    "`-` 간선에 가중치가 없다면(혹은 동일) 한 정점에서 다른 정점까지의 최단 경로를 BFS를 사용해서 계산할 수 있음\n",
    "\n",
    "`-` 만약 간선에 가중치가 있다면 다익스트라 알고리즘(Dijkstra's algorithm)을 사용해 계산 가능함\n",
    "\n",
    "- 다익스트라 알고리즘에서 중요한 점\n",
    "\n",
    "1. 최단 경로의 부분 경로또한 최단 경로이다(최단 경로인 $s\\to x\\to t$가 있다면 $s\\to x,\\; x\\to t$도 각 경로의 최단 경로임)\n",
    "\n",
    "2. 간선에 음의 가중치가 있으면 안된다(만약 음의 가중치가 존재하면 Bellman-Ford algorithm을 사용)\n",
    "\n",
    "`-` 다익스트라 알고리즘: https://en.wikipedia.org/wiki/Dijkstra%27s_algorithm"
   ]
  },
  {
   "cell_type": "code",
   "execution_count": 71,
   "id": "759a4328-035d-4499-b213-693c670bb970",
   "metadata": {},
   "outputs": [
    {
     "name": "stdin",
     "output_type": "stream",
     "text": [
      " 5 6\n",
      " 1\n",
      " 5 1 1\n",
      " 1 2 2\n",
      " 1 3 3\n",
      " 2 3 4\n",
      " 2 4 5\n",
      " 3 4 6\n"
     ]
    },
    {
     "name": "stdout",
     "output_type": "stream",
     "text": [
      "0\n",
      "2\n",
      "3\n",
      "7\n",
      "INF\n"
     ]
    }
   ],
   "source": [
    "import heapq\n",
    "\n",
    "V, E = map(int, input().split()) ## 노드와 간선의 개수\n",
    "s = int(input()) ## 시작 정점\n",
    "\n",
    "INF = 1e9 ## 간선 30만개 * 가중치 10이하 = 상한은 300만\n",
    "adj_list = [[] for _ in range(V + 1)] ## 각 노드의 인접 간선을 담은 리스트\n",
    "dist =  [INF for _ in range(V + 1)] ## 출발노드부터 각 노드까지 이르는 최소거리 추정치\n",
    "inSST = [False for _ in range(V + 1)] ## decrease-key를 구현하기 힘드니 relaxation에서 새롭게 갱신된 item을 Q에 insert하자\n",
    "Q = [] ## 출발 정점으로부터의 최단 경로가 확정된 노드들(min-heap으로 구현)\n",
    "\n",
    "for _ in range(E):\n",
    "    u, v, w = map(int, input().split())\n",
    "    adj_list[u].append([v, w]) ## 노드 u의 인접 노드 v 추가(간선의 가중치는 w)\n",
    "    \n",
    "## 그래프 setting\n",
    "for i in range(1, V + 1):  \n",
    "    if i != s: ## 출발노드를 제외하고 초기화\n",
    "        heapq.heappush(Q, [dist[i], i]) ## Q에 [key, value] insert\n",
    "\n",
    "## 출발 노드 초기화\n",
    "dist[s] = 0 \n",
    "heapq.heappush(Q, [dist[s], s])\n",
    "\n",
    "while Q: ## O(V + E) ## Q가 empty되지 않을 때까지(출발 노드부터 모든 노드까지의 최단 경로를 구할때까지)\n",
    "    d, u = heapq.heappop(Q) ## 최단경로 cost 추정치와 노드 u에서 이제부터 s -> u의 cost는 추정치가 아니라 확정된다\n",
    "    if inSST[u]: ## inSST가 true이면\n",
    "        continue ## 이미 최단경로를 구했으므로 건너뛴다\n",
    "    inSST[u] = True\n",
    "    for v, w in adj_list[u]: ## u --(w)--> v\n",
    "        if (not inSST[v]) and (dist[u] + w < dist[v]): ## 현재의 (s -> v) cost 보다 (s -> u -> v) cost가 더 작으면 dist를 갱신(relaxation part)\n",
    "            dist[v] = dist[u] + w\n",
    "            ## decrease-key(노드 v의 key 값을 dist[u] + w로 갱신) 대신 Q에 [new key, v]를 삽입\n",
    "            heapq.heappush(Q, [dist[v], v]) ## ...(*)\n",
    "                           \n",
    "            ## 왜 제대로 동작함?\n",
    "            ## (*) 코드에 따라 Q에서 노드 v에 대해 여러개의 dist[v]값을 가질 수 있다(왜냐하면 이미 [dist[v], v]가 Q에 존재했는데 [new dist[v], v]를 또 Q에 insert 했으니까~\n",
    "            ## 위에 while문이 동작하는 동안 Q에는 점점 더 작은 dist[v]가 추가된다(=insert 되어진다) ## 당연하다\n",
    "            ## 그런데 Q는 노드 u에 대해서 항상 가장 작은 dist[u](=key)만 반환하므로 얼마나 많은 dist[u]가 Q에 존재하든지 상관없다 \n",
    "\n",
    "## 출력\n",
    "for i in range(1, V + 1):\n",
    "    if dist[i] == INF:\n",
    "        print('INF')\n",
    "    else:\n",
    "        print(dist[i])\n",
    "        \n",
    "# input\n",
    "# 5 6\n",
    "# 1\n",
    "# 5 1 1\n",
    "# 1 2 2\n",
    "# 1 3 3\n",
    "# 2 3 4\n",
    "# 2 4 5\n",
    "# 3 4 6"
   ]
  },
  {
   "cell_type": "markdown",
   "id": "9a0e19d4-f069-4246-b57a-c86013042043",
   "metadata": {},
   "source": [
    "## 최소 스패닝 트리\n",
    "\n",
    "- 문제 출처: [백준 1197번](https://www.acmicpc.net/problem/1197)"
   ]
  },
  {
   "cell_type": "markdown",
   "id": "d92f271e-7e64-40b1-b2db-61a8ea8e76bb",
   "metadata": {},
   "source": [
    "`-` `Kruskal Algorithm`을 사용하여 문제를 해결하겠다(`Prim Algorithm`도 있음!!)\n",
    "\n",
    "`step 1` w(노드 u와 노드v 사이 간선의 가중치)를 기준으로 (u, v, w)를 오름차순 정렬한다\n",
    "\n",
    "`step 2` 가장 작은 간선 가중치를 가지는 (노드 u, 노드 v)를 pop하고 u와 v가 연결됐을 때 MST가 사이클을 형성하지 않는다면 u와 v를 연결 \n",
    "\n",
    "`step 3` spanning tree가 완성될 때까지 `step 2`를 반복 ---> 완성된 spanning tree는 minimum spanning tree(MST)!"
   ]
  },
  {
   "cell_type": "code",
   "execution_count": 24,
   "id": "6d0f13c1-5ad9-4088-aeb3-6d888604c1eb",
   "metadata": {},
   "outputs": [
    {
     "name": "stdin",
     "output_type": "stream",
     "text": [
      " 3 3\n",
      " 1 2 1\n",
      " 2 3 2\n",
      " 1 3 3\n"
     ]
    },
    {
     "name": "stdout",
     "output_type": "stream",
     "text": [
      "3\n"
     ]
    }
   ],
   "source": [
    "## cycle여부를 판단하기 위한 disjoint-set\n",
    "def make_set(u):\n",
    "    p[u] = u ## 각 노드가 자기자신을 가리키게 한다(u -> u)\n",
    "    # rank[u] = 0 ## rank를 선언하면서 0으로 초기화할거임\n",
    "    \n",
    "def find_set(u): ## u가 포함된 tree의 부모 노드를 찾아준다\n",
    "    if p[u] != u: ## u가 자기자신을 가리키지 않으면(=자식 노드)\n",
    "        p[u] = find_set(p[u]) ## flatten tree, original: (1 -> 3, 3 -> 5, 5 -> 7, 7 -> 7), new: (1 -> 7, 3-> 7, 5 -> 7, 7 -> 7)\n",
    "    return p[u]\n",
    "        \n",
    "def union_set(u, v): ## u와 v를 union\n",
    "    uu = find_set(u)\n",
    "    vv = find_set(v)\n",
    "    if uu != vv: ## uu와 vv가 같다면 이미 같은 tree에 속하므로 union할 이유가 없다\n",
    "        rank_u = rank[uu]\n",
    "        rank_v = rank[vv]\n",
    "        if rank_u > rank_v: ## v -> u\n",
    "            p[vv] = uu\n",
    "        elif rank_u == rank_v: ## v -> u(u -> v도 가능) and rank에 +1\n",
    "            p[vv] = uu\n",
    "            rank[vv] += 1\n",
    "        else: ## u -> v\n",
    "            p[uu] = vv\n",
    "\n",
    "## input\n",
    "V, E = map(int, input().split())\n",
    "graph = [] \n",
    "MST_cost = 0\n",
    "p = [0 for _ in range(V + 1)] ## node[i]는 i번 노드가 가리키는(point) 노드를 나타냄\n",
    "rank = [0 for _ in range(V + 1)] ## rank[i]는 i번 노드의 rank 상한을 나타냄  \n",
    "\n",
    "## insert \n",
    "for _ in range(E):\n",
    "    u, v, w = map(int, input().split())\n",
    "    graph.append([w, u, v]) \n",
    "    \n",
    "## sort\n",
    "graph.sort() ## 가중치를 기준으로 오름차순 정렬\n",
    "\n",
    "## make set \n",
    "for i in range(1, V + 1):\n",
    "    make_set(i)\n",
    "\n",
    "## kruskal algorithm\n",
    "for w, u, v in graph: \n",
    "    if find_set(u) != find_set(v): ## cycle을 형성하지 않는다면\n",
    "        union_set(u, v)\n",
    "        MST_cost += w\n",
    "        \n",
    "## 출력\n",
    "print(MST_cost)\n",
    "\n",
    "# input\n",
    "# 3 3\n",
    "# 1 2 1\n",
    "# 2 3 2\n",
    "# 1 3 3"
   ]
  },
  {
   "cell_type": "markdown",
   "id": "5914dec5-1be9-4fe3-9bfe-e01f2bc1917f",
   "metadata": {},
   "source": [
    "`-` 왜 올바르게 동작하는지는 다음 링크 참고: https://en.wikipedia.org/wiki/Kruskal%27s_algorithm#Proof_of_correctness"
   ]
  },
  {
   "cell_type": "markdown",
   "id": "c195948f-29fc-447b-9725-c03c3d8d1227",
   "metadata": {},
   "source": [
    "## 유기농 배추\n",
    "\n",
    "- 문제 출처: [백준 1012번](https://www.acmicpc.net/problem/1012)"
   ]
  },
  {
   "cell_type": "markdown",
   "id": "e6bc94a5-7017-4f88-8519-bca03632f5c1",
   "metadata": {},
   "source": [
    "`-` DFS 또는 BFS를 사용하면 임의의 배추와 인접한 다른 배추를 모두 탐색할 수 있음\n",
    "\n",
    "`-` 모든 좌표에서 DFS를 함으로써 문제를 해결할 수 있을 듯\n",
    "\n",
    "`-` 일단 좌표값이 0(배추 X)인 경우는 pass한다\n",
    "\n",
    "`-` 만약 1(배추 O)인 경우 DFS를 수행해서 1(배추 O)를 0(이미 탐색)으로 바꾸고 count를 +1한다\n",
    "\n",
    "`-` 이를 모든 좌표에 대해서 반복한 후 count의 값이 배추 그룹의 수이다\n",
    "\n",
    "`-` 재귀를 사용해 DFS를 구현하니 재귀 오류가 발생해서 재귀 깊이를 늘려줬다(재귀를 쓰지않는 BFS를 사용해도 된다)"
   ]
  },
  {
   "cell_type": "code",
   "execution_count": 10,
   "id": "37dc045a-7873-4ccb-8121-911a2558139d",
   "metadata": {},
   "outputs": [
    {
     "name": "stdin",
     "output_type": "stream",
     "text": [
      " 1\n",
      " 5 3 6\n",
      " 0 2\n",
      " 1 2\n",
      " 2 2\n",
      " 3 2\n",
      " 4 2\n",
      " 4 0\n"
     ]
    },
    {
     "name": "stdout",
     "output_type": "stream",
     "text": [
      "2\n"
     ]
    }
   ],
   "source": [
    "import sys\n",
    "sys.setrecursionlimit(10**6)\n",
    "\n",
    "T = int(input())\n",
    "for _ in range(T):\n",
    "    M, N, K = map(int, input().split()) ## 가로, 높이, 배추 개수\n",
    "    A = [[0] * M for _ in range(N)] ## 0으로 초기화된 M X N 배열\n",
    "\n",
    "    ## 배추가 있는 좌표값을 1로 지정\n",
    "    for _ in range(K):\n",
    "        x, y = map(int, input().split())\n",
    "        A[y][x] = 1 ## (y, x)에 배추가 존재(1)\n",
    "\n",
    "    ## DFS\n",
    "    def DFS(x, y):\n",
    "        if A[x][y] == 0: ## 만약 배추가 존재하지 않거나 이미 탐색했으면 dfs을 멈춘다\n",
    "            return 0\n",
    "        A[x][y] = 0 ## 이제 탐색했으니 0으로 바꿔준다\n",
    "\n",
    "        ## (x, y)를 기준으로 상하좌우 탐색\n",
    "        if x < N - 1: ## 위로 탐색이 가능하면\n",
    "            DFS(x + 1, y) ## 상\n",
    "        if x > 0: ## 아래로 탐색이 가능하면\n",
    "            DFS(x - 1, y) ## 하\n",
    "        if y > 0: ## 왼쪽으로 탐색이 가능하면\n",
    "            DFS(x, y - 1) ## 좌\n",
    "        if y < M - 1: ## 오른쪽으로 탐색이 가능하면\n",
    "            DFS(x, y + 1) ## 우\n",
    "        return 1 ## dfs(x, y)가 0을 return하면 (x, y)에 배추가 없다는 것이며 1을 return한 것은 (x, y)에 배추가 있고 이와 인접한 배추도 모두 탐색했다는 것\n",
    "\n",
    "    count = 0 ## 배추 군집의 개수\n",
    "    for i in range(N):\n",
    "        for j in range(M):\n",
    "            count += DFS(i, j)\n",
    "\n",
    "    print(count)\n",
    "    \n",
    "# input\n",
    "# 1\n",
    "# 5 3 6\n",
    "# 0 2\n",
    "# 1 2\n",
    "# 2 2\n",
    "# 3 2\n",
    "# 4 2\n",
    "# 4 0"
   ]
  },
  {
   "cell_type": "markdown",
   "id": "29225d48-9c56-4568-9bc0-265a784bd670",
   "metadata": {},
   "source": [
    "## 토마토\n",
    "\n",
    "- 문제 출처: [백준 7576번](https://www.acmicpc.net/problem/7576)"
   ]
  },
  {
   "cell_type": "code",
   "execution_count": 59,
   "id": "44fb3be7-2c44-47a7-871d-6d476ca7ec57",
   "metadata": {},
   "outputs": [
    {
     "name": "stdin",
     "output_type": "stream",
     "text": [
      " 5 5\n",
      " -1 1 0 0 0\n",
      " 0 -1 -1 -1 0\n",
      " 0 -1 -1 -1 0\n",
      " 0 -1 -1 -1 0\n",
      " 0 0 0 0 0\n"
     ]
    },
    {
     "name": "stdout",
     "output_type": "stream",
     "text": [
      "14\n"
     ]
    }
   ],
   "source": [
    "from collections import deque\n",
    "M, N = map(int, input().split()) ## 가로, 세로\n",
    "A = [list(map(int, input().split())) for _ in range(N)] ## 상자에 저장된 토마토 정보\n",
    "queue = deque([]) ## (x, y)를 인자로 가진다\n",
    "visited = dict()    \n",
    "need_day = -1 ## 초기값(BFS를 수행하면 적어도 +1은 되니 최소값 0을 만족함(=안익은 토마토가 없으면 최소 날짜는 0))\n",
    "\n",
    "## 익은 토마토의 좌표를 queue에 insert\n",
    "for i in range(N):\n",
    "    for j in range(M):\n",
    "        if A[i][j] == 1:\n",
    "            queue.append((i, j))\n",
    "            A[i][j] = 0 ## 어차피 BFS에서 방문하면서 다시 1로 만들거니 상관없다\n",
    "            \n",
    "def BFS(queue, visited): \n",
    "    global need_day\n",
    "    while queue: ## 더 이상 방문할 수 있는 곳이 남지 않을 때까지\n",
    "        queue_size = len(queue) ## 현재 queue에 저장된 개수(같은 높이의 정점)\n",
    "        value = False ## (x, y)가 토마토를 익게 만드는데 기여했는지 확인(=need_day에 +1 가치가 있는지 확인)\n",
    "        while queue_size: # 같은 높이의 정점들을 탐색, 값이 0이 되면 다음 층(높이) 탐색\n",
    "            x, y = queue.popleft() \n",
    "            if (x, y) not in visited: ## 이미 방문했으면 확인할 가치 X\n",
    "                visited[(x, y)] = True ## 이제 방문했다\n",
    "                \n",
    "                ## A[x][y]의 토마토 상태 확인\n",
    "                if A[x][y] == 0:\n",
    "                    A[x][y] = 1\n",
    "                    value = True ## 익지 않은 토마토를 익게 만들었으므로 최소 날짜에 +1할 가치가 있음\n",
    "                    \n",
    "                    ## 가장 먼저 (x, y)의 토마토를 익게 만들었으므로(현재까지 최단 경로이므로) (x, y)를 기준으로 상하좌우 좌표를 append\n",
    "                    if x < N - 1: ## 위로 탐색이 가능하면\n",
    "                        queue.append((x + 1, y)) ## 상\n",
    "                    if x > 0: ## 아래로 탐색이 가능하면\n",
    "                        queue.append((x - 1, y)) ## 하\n",
    "                    if y > 0: ## 왼쪽으로 탐색이 가능하면\n",
    "                        queue.append((x, y - 1)) ## 좌\n",
    "                    if y < M - 1: ## 오른쪽으로 탐색이 가능하면\n",
    "                        queue.append((x, y + 1)) ## 우\n",
    "                else:\n",
    "                    pass ## -1은 방문이 불가능하므로 pass, 1은 먼저 방문한 경우가 있으니 pass(최소경로가 될 수 없음)\n",
    "            queue_size -= 1\n",
    "        \n",
    "        ## 토마토를 익게 만들었다면\n",
    "        if value:\n",
    "            need_day += 1\n",
    "        \n",
    "    ## 탐색 끝, 익지 않은 토마토가 있는지 확인\n",
    "    for i in range(N):\n",
    "        for j in range(M):\n",
    "            if A[i][j] == 0:\n",
    "                return -1 ## 모든 토마토를 익은 토마토로 만드는 것은 불가능\n",
    "            \n",
    "    return need_day ## 최소 날짜\n",
    "\n",
    "## BFS\n",
    "print(BFS(queue, visited))\n",
    "\n",
    "# input\n",
    "# 5 5\n",
    "# -1 1 0 0 0\n",
    "# 0 -1 -1 -1 0\n",
    "# 0 -1 -1 -1 0\n",
    "# 0 -1 -1 -1 0\n",
    "# 0 0 0 0 0"
   ]
  },
  {
   "cell_type": "markdown",
   "id": "1251ab7b-8118-4f21-8d41-dd0b18d90194",
   "metadata": {},
   "source": [
    "## 토마토\n",
    "\n",
    "- 문제 출처: [백준 7569번](https://www.acmicpc.net/problem/7569)"
   ]
  },
  {
   "cell_type": "markdown",
   "id": "e5f45dc2-2a1b-4f37-9780-d75d86ad70cc",
   "metadata": {},
   "source": [
    "`-` 토마토 보관 창고가 2차원에서 3차원이 됐다\n",
    "\n",
    "`-` 기존에 탐색한 앞, 뒤, 왼쪽, 오른쪽 외에도 위와 아래를 탐색해야 한다"
   ]
  },
  {
   "cell_type": "code",
   "execution_count": 35,
   "id": "7d7f5511-1bf8-4134-a189-e2db92c0b188",
   "metadata": {},
   "outputs": [
    {
     "name": "stdin",
     "output_type": "stream",
     "text": [
      " 5 3 2\n",
      " 0 0 0 0 0\n",
      " 0 0 0 0 0\n",
      " 0 0 0 0 0\n",
      " 0 0 0 0 0\n",
      " 0 0 1 0 0 \n",
      " 0 0 0 0 0\n"
     ]
    },
    {
     "name": "stdout",
     "output_type": "stream",
     "text": [
      "4\n"
     ]
    }
   ],
   "source": [
    "from collections import deque\n",
    "M, N, H = map(int, input().split()) ## 가로, 세로, 높이\n",
    "A = list(reversed([[list(map(int, input().split())) for _ in range(N)] for __ in range(H)])) ## 상자에 저장된 토마토 정보 (높이 X 세로 X 가로)\n",
    "queue = deque([]) ## (x, y, z)를 인자로 가진다\n",
    "visited = dict()    \n",
    "need_day = -1 ## 초기값(BFS를 수행하면 적어도 +1은 되니 최소값 0을 만족함(=안익은 토마토가 없으면 최소 날짜는 0))\n",
    "\n",
    "## 상하좌우전후\n",
    "dx = [0, 0, -1, 1, 0, 0] ## 가로\n",
    "dy = [0, 0, 0, 0, 1, -1] ## 세로 \n",
    "dz = [1, -1, 0, 0, 0, 0] ## 높이\n",
    "\n",
    "## 익은 토마토의 좌표를 queue에 insert\n",
    "for i in range(H):\n",
    "    for j in range(N):\n",
    "        for k in range(M):\n",
    "            if A[i][j][k] == 1:\n",
    "                queue.append((i, j, k)) ## (높이, 세로, 가로)\n",
    "                A[i][j][k] = 0 ## 어차피 BFS에서 방문하면서 다시 1로 만들거니 상관없다\n",
    "            \n",
    "def BFS(queue, visited): \n",
    "    global need_day\n",
    "    while queue: ## 더 이상 방문할 수 있는 곳이 남지 않을 때까지\n",
    "        queue_size = len(queue) ## 현재 queue에 저장된 개수(같은 높이의 정점)\n",
    "        value = False ## (z, y, x)가 토마토를 익게 만드는데 기여했는지 확인(=need_day에 +1 가치가 있는지 확인)\n",
    "        while queue_size: # 같은 높이의 정점들을 탐색, 값이 0이 되면 다음 층(높이) 탐색\n",
    "            z, y, x = queue.popleft()\n",
    "                \n",
    "            if (z, y, x) not in visited: ## 이미 방문했으면 확인할 가치 X\n",
    "                visited[(z, y, x)] = True ## 이제 방문했다\n",
    "                \n",
    "                ## A[z][y][x]의 토마토 상태 확인\n",
    "                if A[z][y][x] == 0:\n",
    "                    A[z][y][x] = 1\n",
    "                    value = True ## 익지 않은 토마토를 익게 만들었으므로 최소 날짜에 +1할 가치가 있음\n",
    "                    \n",
    "                    ## 가장 먼저 (z, y, x)의 토마토를 익게 만들었으므로(현재까지 최단 경로이므로) (z, y, x)를 기준으로 상하좌우전후 좌표를 append\n",
    "                    for i in range(6):\n",
    "                        zz = z + dz[i]\n",
    "                        yy = y + dy[i]\n",
    "                        xx = x + dx[i]\n",
    "                        if (0 <= zz < H) and (0 <= yy < N) and (0 <= xx < M): ## 탐색이 가능한 방향이면 queue에 append\n",
    "                            queue.append((zz, yy, xx)) \n",
    "                else:\n",
    "                    pass ## -1은 방문이 불가능하므로 pass, 1은 먼저 방문한 경우가 있으니 pass(최소경로가 될 수 없음)\n",
    "            queue_size -= 1\n",
    "        \n",
    "        ## 토마토를 익게 만들었다면\n",
    "        if value:\n",
    "            need_day += 1\n",
    "        \n",
    "    ## 탐색 끝, 익지 않은 토마토가 있는지 확인\n",
    "    for i in range(H):\n",
    "        for j in range(N):\n",
    "            for k in range(M):\n",
    "                if A[i][j][k] == 0:\n",
    "                    return -1 ## 모든 토마토를 익은 토마토로 만드는 것은 불가능\n",
    "                \n",
    "    return need_day ## 최소 날짜\n",
    "\n",
    "## BFS\n",
    "print(BFS(queue, visited))\n",
    "\n",
    "# input\n",
    "# 5 3 2\n",
    "# 0 0 0 0 0\n",
    "# 0 0 0 0 0\n",
    "# 0 0 0 0 0\n",
    "# 0 0 0 0 0\n",
    "# 0 0 1 0 0\n",
    "# 0 0 0 0 0"
   ]
  },
  {
   "cell_type": "markdown",
   "id": "e6859653-cbc9-4ef4-af7a-301b8aaf2570",
   "metadata": {},
   "source": [
    "## 적록색약\n",
    "\n",
    "- 문제 출처: [백준 10026번](https://www.acmicpc.net/problem/10026)"
   ]
  },
  {
   "cell_type": "markdown",
   "id": "4fc2297b-334d-4ca3-9615-e0960332224c",
   "metadata": {},
   "source": [
    "`-` 한 번의 탐색으로 적록색약인 사람과 그렇지 않은 사람이 봤을 때의 구역 개수를 구하는 방법은 딱 떠오르지 않음\n",
    "\n",
    "`-` 그래서 두 번의 탐색으로 문제를 풀기로 함\n",
    "\n",
    "`-` 적록색약이 아닌 경우 전체 영역에 대해 DFS를 해서 군집 개수를 찾을 수 있다\n",
    "\n",
    "- 예시 \n",
    "\n",
    "`-` 예컨대 $(1,1)$은 R(빨강)이고 $(1,1)$에서 DFS를 수행하여 $(1,1)$과 연결된 모든 R을 찾고 이를 하나의 군집으로 묶고 군집 개수를 하나 늘림\n",
    "\n",
    "`-` 만약 $(1,2)$가 아직 방문되지 않았다면 $(1,2)$에 대해 $(1,1)$에서 했던 것과 동일한 작업을 수행\n",
    "\n",
    "`-` 이를 모든 좌표에 대해서 수행하고 최종 군집 개수를 출력하면 된다\n",
    "\n",
    "`-` 적록색약인 경우 G(초록)를 R(빨강)으로 바꾸고 적록색약이 아닌 경우로 생각하여 탐색을 수행하면 된다"
   ]
  },
  {
   "cell_type": "code",
   "execution_count": 122,
   "id": "d2c0f273-2530-4f82-a86e-2bfc0e031bee",
   "metadata": {},
   "outputs": [
    {
     "name": "stdin",
     "output_type": "stream",
     "text": [
      " 5\n",
      " RRRBB\n",
      " GGBBB\n",
      " BBBRR\n",
      " BBRRR\n",
      " RRRRR\n"
     ]
    },
    {
     "name": "stdout",
     "output_type": "stream",
     "text": [
      "4 3\n"
     ]
    }
   ],
   "source": [
    "import sys\n",
    "sys.setrecursionlimit(10**6)\n",
    "\n",
    "## DFS\n",
    "def DFS(x, y, c, blindness=False):\n",
    "    ## c는 R or G or B (=대문자)\n",
    "    if A[x][y].islower(): ## 이미 탐색(소문자)했으면 dfs을 멈춘다\n",
    "        return 0\n",
    "    if blindness: ## 적록색약이면 R과 G가 동일\n",
    "        if c == 'B':\n",
    "            if A[x][y] != c: ## 적록색약도 파랑은 구분한다\n",
    "                return 0\n",
    "        else:\n",
    "            if A[x][y] == 'B':\n",
    "                return 0\n",
    "    else: ## 적록색약 X\n",
    "        if A[x][y] != c: ## 색깔이 다르다\n",
    "            return 0\n",
    "     \n",
    "    color = A[x][y] ## color는 대문자\n",
    "    A[x][y] = A[x][y].lower() ## 이제 탐색했으니 visited로 바꿔준다 (대문자 -> 소문자)\n",
    "\n",
    "    ## (x, y)를 기준으로 상하좌우 탐색\n",
    "    if x < N - 1: ## 위로 탐색이 가능하면\n",
    "        DFS(x + 1, y, color, blindness) ## 상\n",
    "    if x > 0: ## 아래로 탐색이 가능하면\n",
    "        DFS(x - 1, y, color, blindness) ## 하\n",
    "    if y > 0: ## 왼쪽으로 탐색이 가능하면\n",
    "        DFS(x, y - 1, color, blindness) ## 좌\n",
    "    if y < N - 1: ## 오른쪽으로 탐색이 가능하면\n",
    "        DFS(x, y + 1, color, blindness) ## 우\n",
    "    return 1 ## (x, y)와 동일한 색상을 가진 인접 구역을 모두 탐색\n",
    "\n",
    "N = int(input())\n",
    "A = [list(input()) for _ in range(N)] ## 적록색약 없음 (R, G, B)\n",
    "cnt1, cnt2 = 0, 0 ## cnt1은 적록색약이 없을 때의 그룹 수, cnt2는 적록색약이 있을 때의 그룹 수\n",
    "\n",
    "## 출력 부분 (메모리 초과 때문에 배열은 A 하나만 쓸 것임, 근데 이게 문제가 아니었음..., pypy문제임)\n",
    "### 적록색약 X\n",
    "for i in range(N):\n",
    "    for j in range(N):\n",
    "        cnt1 += DFS(i, j, A[i][j], blindness=False)\n",
    "        \n",
    "### A를 원래대로 초기화\n",
    "A = [[x.upper() for x in xx] for xx in A]\n",
    "\n",
    "### 적록색약 O \n",
    "for i in range(N):\n",
    "    for j in range(N):\n",
    "        cnt2 += DFS(i, j, A[i][j], blindness=True)\n",
    "        \n",
    "print(cnt1, cnt2)\n",
    "\n",
    "# input\n",
    "# 5\n",
    "# RRRBB\n",
    "# GGBBB\n",
    "# BBBRR\n",
    "# BBRRR\n",
    "# RRRRR"
   ]
  },
  {
   "cell_type": "markdown",
   "id": "2fc06c5c-93ef-4a63-9a86-5fed4efdf064",
   "metadata": {},
   "source": [
    "## 리모컨\n",
    "\n",
    "- 문제 출처: [백준 1107번](https://www.acmicpc.net/problem/1107)"
   ]
  },
  {
   "cell_type": "markdown",
   "id": "e04a57ed-413a-4d1d-b050-11249c42ef91",
   "metadata": {},
   "source": [
    "`-` BFS를 통해 현재 채널 $100$에서 $N$으로 가기 위한 최소 클릭횟수를 구하자(DFS도 가능)\n",
    "\n",
    "`-` 리모컨에 버튼이 $0$부터 $9$까지 있으므로 이론상 모든 숫자를 표현할 수 있지만 일부 버튼이 고장났다\n",
    "\n",
    "`-` $0\\sim 500000$까지의 버튼을 생성 $\\to$ 고장난 버튼을 포함한 숫자를 제외\n",
    "\n",
    "`-` 입력 가능한 숫자에서 시작해 $+,-$ 버튼을 통해 이동 $\\to$ 만약 기존의 입력횟수보다 많다면 멈추고 적다면 변경한다\n",
    "\n",
    "- 예외 상황\n",
    "\n",
    "`-` $50$만보다 큰 버튼이 필요할 수 있다\n",
    "\n",
    "`-` 예컨대 $N=50$만인데 $4$와 $9$가 고장났다면 $500001$을 입력한 후 $-$버튼을 누르는 것이 최소 입력횟수이다\n",
    "\n",
    "`-` 시작 위치는 $100$이고 $N$은 최대$50$만이므로 대칭성에 의해 버튼을 $100$만(=$2N$)까지 만들어놓으면 모든 경우를 cover할 수 있다"
   ]
  },
  {
   "cell_type": "code",
   "execution_count": 128,
   "id": "c74018bd-ddb6-4966-8e2a-c45487a4044e",
   "metadata": {},
   "outputs": [
    {
     "name": "stdin",
     "output_type": "stream",
     "text": [
      " 97\n",
      " 3\n",
      " 6 7 8\n"
     ]
    },
    {
     "name": "stdout",
     "output_type": "stream",
     "text": [
      "3\n"
     ]
    }
   ],
   "source": [
    "from collections import deque\n",
    "\n",
    "N = int(input())\n",
    "M = int(input())\n",
    "INF = 1e6\n",
    "if M > 0:\n",
    "    broken_buttons = list(map(int, input().split()))\n",
    "else:\n",
    "    broken_buttons = []\n",
    "visited = [INF] * max((2*N + 1), 101) ## 0 ~ 2N번 까지, 시작 위치가 100이므로 적어도 0 ~ 100까지는 있어야 함\n",
    "\n",
    "## 입력 가능한 버튼 list\n",
    "buttons = []\n",
    "for i in range(max(101, 2*N + 1)): ## 시작지점이 100이므로 0 ~ 100과 0 ~ 2N중 더 넓은 범위 선택 \n",
    "    include = True\n",
    "    for bb in broken_buttons:\n",
    "        if str(bb) in str(i):\n",
    "            include = False\n",
    "    if include:\n",
    "        buttons.append(i)\n",
    "\n",
    "## initiate visited\n",
    "for b in buttons:\n",
    "    visited[b] = len(str(b))\n",
    "    \n",
    "if 100 not in buttons:\n",
    "    buttons.append(100) ## 100을 추가안하면 틀림!\n",
    "visited[100] = 0 ## 시작 버튼\n",
    "\n",
    "def BFS(x): ## x는 현재 버튼\n",
    "    queue = deque([])\n",
    "    queue.append(x)\n",
    "    while queue:\n",
    "        channel = queue.popleft()\n",
    "        up = channel + 1\n",
    "        down = channel - 1\n",
    "        \n",
    "        ## + 1 버튼\n",
    "        if up <= 2*N: ## buttons 외에 값 탐색은 무의미\n",
    "            if visited[up] > visited[channel] + 1: ## 더 작은 클릭 횟수가 존재한다면\n",
    "                queue.append(up)\n",
    "                visited[up] = visited[channel] + 1\n",
    "                \n",
    "        ## - 1 버튼\n",
    "        if down >= 0: ## buttons 외에 값 탐색은 무의미\n",
    "            if visited[down] > visited[channel] + 1: ## 더 작은 클릭 횟수가 존재한다면\n",
    "                queue.append(down)\n",
    "                visited[down] = visited[channel] + 1\n",
    "    return None\n",
    "\n",
    "## search\n",
    "for b in buttons:\n",
    "    if visited[b] == len(str(b)) or b == 100:\n",
    "        BFS(b)\n",
    "\n",
    "## print\n",
    "print(visited[N])\n",
    "\n",
    "# input\n",
    "# 97\n",
    "# 3\n",
    "# 6 7 8"
   ]
  },
  {
   "cell_type": "markdown",
   "id": "39ce4010-14fd-4b41-8b32-07ef737f70d3",
   "metadata": {},
   "source": [
    "## 아기 상어\n",
    "\n",
    "- 문제 출처: [백준 16236번](https://www.acmicpc.net/problem/16236)"
   ]
  },
  {
   "cell_type": "markdown",
   "id": "2af45ce6-6d41-41df-8c88-93f9b2b62cab",
   "metadata": {},
   "source": [
    "`-` 아기 상어가 먹을 수 있는 물고기의 좌표를 얻은 후 거기로 이동이 가능하지 파악\n",
    "\n",
    "`-` 불가능하다면 엄마 상어를 부르고 가능하다면 해당 좌표로 이동 후 물고기를 먹고 다시 이를 반복하면 된다\n",
    "\n",
    "`-` 자세한 내용은 주석에 달아놨다 (이게 더 편함...)\n",
    "\n",
    "`-` 시간초과에 고통받다가 다음 링크를 참고하여 해결함: https://www.acmicpc.net/board/view/35531"
   ]
  },
  {
   "cell_type": "markdown",
   "id": "ab1aaba6-c2c5-4af5-8eeb-11f305e66e34",
   "metadata": {},
   "source": [
    "- BFS 구현 시 주의사항\n",
    "\n",
    "`-` `queue`에서 `popleft`한 뒤에 방문 여부를 확인하는 것이 아닌 `append` 하기 전에 확인해야 한다\n",
    "\n",
    "`-` 그렇지 않으면 중복 방문을 하게 된다 (물론 `if문`에서 걸러지지만 이를 하나의 좌표에 대해 중복해서 처리해야 된다)"
   ]
  },
  {
   "cell_type": "code",
   "execution_count": 64,
   "id": "bb53cab5-75aa-4389-9f1c-b834a8e10e03",
   "metadata": {},
   "outputs": [
    {
     "name": "stdin",
     "output_type": "stream",
     "text": [
      " 6\n",
      " 1 1 1 1 1 1\n",
      " 2 2 6 2 2 3\n",
      " 2 2 5 2 2 3\n",
      " 2 2 2 4 6 3\n",
      " 0 0 0 0 0 6\n",
      " 0 0 0 0 0 9\n"
     ]
    },
    {
     "name": "stdout",
     "output_type": "stream",
     "text": [
      "39\n"
     ]
    }
   ],
   "source": [
    "from collections import deque\n",
    "\n",
    "## 함수\n",
    "def get_shark_position(arr): \n",
    "    for i in range(N):\n",
    "        for j in range(N):\n",
    "            if arr[i][j] == 9:\n",
    "                return [i, j] ## 아기 상어의 좌표\n",
    "\n",
    "def BFS(x, y): \n",
    "    global visited\n",
    "    queue = deque([[x, y]]) ## 아기 상어의 좌표\n",
    "    visited = [[-1] * N for _ in range(N)] ## 방문 여부를 기록\n",
    "    visited[x][y] = 0 ## 아기 상어는 방문으로 처리\n",
    "    distance = 0\n",
    "    fishes = []\n",
    "    \n",
    "    while queue:\n",
    "        if fishes: ## A[x][y]에서 가장 가까운 물고기들 좌표를 구했으면 while문 종료\n",
    "            break\n",
    "            \n",
    "        queue_size = len(queue)\n",
    "        distance += 1\n",
    "        while queue_size:\n",
    "            qx, qy = queue.popleft() ## 맨 처음에 pop되는 좌표는 현재 아기 상어의 좌표이다\n",
    "            \n",
    "            ## 만약 아래의 if문을 그냥 shark_size로 코딩하면 상어 크기가 9보다 커질 때 제자리만 맴도는 무한루프에 빠진다\n",
    "            if 0 < A[qx][qy] < min(7, shark_size): ## 아기 상어가 먹을 수 있는 물고기 (물고기 크기는 최대 6)\n",
    "                fishes.append([visited[qx][qy], qx, qy]) ## 물고기 좌표 append\n",
    "\n",
    "            for i in range(4):\n",
    "                xx = dx[i] + qx\n",
    "                yy = dy[i] + qy\n",
    "\n",
    "                if (0 <= xx < N) and (0 <= yy < N) and (A[xx][yy] <= shark_size): ## 아기 상어가 이동할 수 있다면\n",
    "                    if visited[xx][yy] == -1: ## 아직 방문하지 않았다면\n",
    "                        queue.append([xx, yy])\n",
    "                        visited[xx][yy] = distance ## 이제 방문함\n",
    "            queue_size -= 1\n",
    "    \n",
    "    ## 목적지까지 도달 가능한지 판단\n",
    "    if fishes:\n",
    "        fishes.sort(key = lambda x: (x[0], x[1], x[2])) ## 거리가 가장 가까운 물고기 중 가장 위에 있고 가장 왼쪽에 있는 순으로 정렬\n",
    "        return fishes[0] ## A[x][y]에서 goal까지의 거리와 좌표\n",
    "    return INF\n",
    "\n",
    "## 입력\n",
    "N = int(input())\n",
    "A = [list(map(int, input().split())) for _ in range(N)] ## 아기 상어와 물고기의 상태를 나타낸 배열 \n",
    "shark_size = 2 ## 아기 상어의 크기 ## 2부터 시작\n",
    "stack = 0 ## shark가 다음 size로 진화하기 위해 먹어야 할 남은 물고기 개수\n",
    "time = 0 ## 아기 상어가 엄마 상어에게 도움을 요청하지 않고 물고기를 잡아먹을 수 있는 시간\n",
    "INF = 1e6\n",
    "dx = [1,-1, 0, 0] ## 상하좌우\n",
    "dy = [0, 0, -1, 1] ## 상하좌우\n",
    "\n",
    "## 초기값\n",
    "shark_position = get_shark_position(A) ## 현재 아기 상어의 위치\n",
    "\n",
    "## 아기 상어의 size보다 작은 물고기들 중 먹을 수 있는 물고기 색출\n",
    "while True: ## while문은 O(N^2) 만큼 돌아간다\n",
    "    i, j = shark_position ## 행, 열\n",
    "    fish_dist = BFS(i, j) ## A[i][j]와 fish 사이의 거리와 좌표\n",
    "\n",
    "    if fish_dist != INF: \n",
    "        d, x, y = fish_dist ## 아기 상어와 거리가 가장 가까운 물고기들 중 조건을 충족하는 물고기 한 마리 \n",
    "        time += d ## 이동하는데 걸리 시간을 더해줌\n",
    "        A[i][j] = 0 ## 아기 상어는 물고기를 먹으러 위치를 옮김 (A[i][j] -> A[x][y])\n",
    "        A[x][y] = 9 ## 물고기는 아기 상어가 해치웠으니 안심하라구 \n",
    "        shark_position = [x, y]\n",
    "        stack += 1 ## 아기 상어가 물고기를 잡아 먹었으므로 스택을 쌓음\n",
    "        \n",
    "        if stack == shark_size: ## 아기 상어 level up 가능여부 check\n",
    "            shark_size += 1 \n",
    "            stack = 0\n",
    "    else:\n",
    "        break ## 아기 상어가 먹을 수 있는 물고기가 없으므로 엄마 상어에게 도움을 요청\n",
    "\n",
    "print(time)\n",
    "\n",
    "# input\n",
    "# 6\n",
    "# 1 1 1 1 1 1\n",
    "# 2 2 6 2 2 3\n",
    "# 2 2 5 2 2 3\n",
    "# 2 2 2 4 6 3\n",
    "# 0 0 0 0 0 6\n",
    "# 0 0 0 0 0 9"
   ]
  },
  {
   "cell_type": "code",
   "execution_count": null,
   "id": "bac64f5f-a7bc-448e-9f63-3236d9c39051",
   "metadata": {},
   "outputs": [],
   "source": []
  }
 ],
 "metadata": {
  "kernelspec": {
   "display_name": "Python 3 (ipykernel)",
   "language": "python",
   "name": "python3"
  },
  "language_info": {
   "codemirror_mode": {
    "name": "ipython",
    "version": 3
   },
   "file_extension": ".py",
   "mimetype": "text/x-python",
   "name": "python",
   "nbconvert_exporter": "python",
   "pygments_lexer": "ipython3",
   "version": "3.8.11"
  }
 },
 "nbformat": 4,
 "nbformat_minor": 5
}
