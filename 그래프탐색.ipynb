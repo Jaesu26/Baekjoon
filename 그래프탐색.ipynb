{
 "cells": [
  {
   "cell_type": "markdown",
   "id": "b2968dee-af21-4da4-9b0e-6e99c1626fea",
   "metadata": {},
   "source": [
    "# 그래프 탐색(Graph Search)"
   ]
  },
  {
   "cell_type": "markdown",
   "id": "cae64447-7861-455f-9e5a-837ef7996642",
   "metadata": {},
   "source": [
    "## DFS와 BFS\n",
    "\n",
    "- 문제 출처: [백준 1260번](https://www.acmicpc.net/problem/1260)"
   ]
  },
  {
   "cell_type": "markdown",
   "id": "d3d4772e-a7e9-4ce1-b374-f8a607bf2a75",
   "metadata": {},
   "source": [
    "`-` 시작 노드가 그래프에 없는 경우를 고려해줘야 한다(이것때문에 2번 틀림...)"
   ]
  },
  {
   "cell_type": "code",
   "execution_count": 66,
   "id": "94bac957-4e75-4788-85e7-c4ad926260e5",
   "metadata": {},
   "outputs": [
    {
     "name": "stdin",
     "output_type": "stream",
     "text": [
      " 4 5 1\n",
      " 1 2\n",
      " 1 3\n",
      " 1 4\n",
      " 2 4\n",
      " 3 4\n"
     ]
    },
    {
     "name": "stdout",
     "output_type": "stream",
     "text": [
      "1 2 4 3\n",
      "1 2 3 4\n"
     ]
    }
   ],
   "source": [
    "def DFS(graph, start_node):\n",
    "    visited = {} ## 방문한 노드\n",
    "    stack = [] ## 방문할 노드\n",
    "    stack.append(start_node) ## 방문할 노드에 시작 노드 추가\n",
    "    if start_node not in graph: ## 시작 노드가 그래프에 존재하지 않는다면\n",
    "        return [start_node]\n",
    "\n",
    "    while stack:  ## 방문할 노드가 있다면(리스트에 원소가 있으면 True)\n",
    "        node = stack.pop() ## 마지막 노드 추가(스택 구조 사용) \n",
    "        if node not in visited:  ## 만약 아직 방문한 노드가 아니라면\n",
    "            visited[node] = True  ## 이제 방문했으니까 방문한 노드에 추가\n",
    "            stack.extend(reversed(graph[node])) ## 방문한 노드에 연결된 노드를 탐색해보자\n",
    "            \n",
    "    return list(visited.keys()) ## 방문한 노드를 반환\n",
    "\n",
    "def BFS(graph, start_node):\n",
    "    from collections import deque ## deque패키지 import\n",
    "    visited = {} ## 방문한 노드\n",
    "    queue = deque() ## 방문할 노드\n",
    "    queue.append(start_node) ## 방문할 노드에 시작 노드 추가\n",
    "    if start_node not in graph: ## 시작 노드가 그래프에 존재하지 않는다면\n",
    "        return [start_node]\n",
    "\n",
    "    while queue:  ## 방문할 노드가 있다면(리스트에 원소가 있으면 True)\n",
    "        node = queue.popleft() ## 첫번째 노드 추가(큐 구조 사용)   \n",
    "        if node not in visited:  ## 만약 아직 방문한 노드가 아니라면\n",
    "            visited[node] = True  ## 이제 방문했으니까 방문한 노드에 추가\n",
    "            queue.extend(graph[node]) ## 방문한 노드에 연결된 노드를 탐색해보자\n",
    "\n",
    "    return list(visited.keys()) ## 방문한 노드를 반환\n",
    "\n",
    "N, M, V = map(int, input().split())\n",
    "graph = {}\n",
    "\n",
    "for _ in range(M):\n",
    "    keys = list(map(int, input().split()))\n",
    "    for i in range(2):\n",
    "        if keys[-i] in graph:\n",
    "            graph[keys[-i]] = sorted(list(set(graph[keys[-i]] + [keys[-(i+1)]]))) ## grahp에 처음 등장하는 노드가 아닐 때\n",
    "        else:\n",
    "            graph[keys[-i]] = [keys[-(i+1)]] ## grahp에 처음 등장하는 노드일 때\n",
    "            \n",
    "print(*DFS(graph, V))\n",
    "print(*BFS(graph, V))\n",
    "\n",
    "# input\n",
    "# 4 5 1\n",
    "# 1 2\n",
    "# 1 3\n",
    "# 1 4\n",
    "# 2 4\n",
    "# 3 4"
   ]
  },
  {
   "cell_type": "markdown",
   "id": "4866181c-7af8-4473-8baf-20d4500f1458",
   "metadata": {},
   "source": [
    "## 바이러스\n",
    "\n",
    "- 문제 출처: [백준 2606번](https://www.acmicpc.net/problem/2606)"
   ]
  },
  {
   "cell_type": "markdown",
   "id": "f448fd58-de88-4ea6-ae04-130aaf6778fc",
   "metadata": {},
   "source": [
    "`-` DFS로 풀자"
   ]
  },
  {
   "cell_type": "code",
   "execution_count": 68,
   "id": "8b074e74-0f57-487e-928d-be37c6f3bb76",
   "metadata": {},
   "outputs": [
    {
     "name": "stdin",
     "output_type": "stream",
     "text": [
      " 7\n",
      " 6\n",
      " 1 2\n",
      " 2 3\n",
      " 1 5\n",
      " 5 2\n",
      " 5 6\n",
      " 4 7\n"
     ]
    },
    {
     "name": "stdout",
     "output_type": "stream",
     "text": [
      "4\n"
     ]
    }
   ],
   "source": [
    "def DFS(graph, start_node = 1):\n",
    "    visited = {} ## 탐색한 노드는 1번 컴퓨터와 직접적이든 간접적이든 연결되었다\n",
    "    stack = [start_node]\n",
    "    if start_node not in graph: ## 1번 컴퓨터와 연결된 컴퓨터가 없다면\n",
    "        return [start_node]\n",
    "    \n",
    "    while stack:\n",
    "        node = stack.pop()\n",
    "        if node not in visited:\n",
    "            visited[node] = True\n",
    "            stack.extend(reversed(graph[node]))\n",
    "            \n",
    "    return list(visited.keys())\n",
    "\n",
    "graph = {}\n",
    "N = int(input())\n",
    "M = int(input())\n",
    "\n",
    "for _ in range(M):\n",
    "    keys = list(map(int, input().split()))\n",
    "    for i in range(2):\n",
    "        if keys[-i] in graph:\n",
    "            graph[keys[-i]] = sorted(list(set(graph[keys[-i]] + [keys[-(i+1)]]))) ## grahp에 처음 등장하는 노드가 아닐 때\n",
    "        else:\n",
    "            graph[keys[-i]] = [keys[-(i+1)]] ## grahp에 처음 등장하는 노드일 때\n",
    "\n",
    "print(len(DFS(graph)) - 1) ## 1번 컴퓨터를 통해 바이러스에 걸리는 컴퓨터 수이므로 1번 컴퓨터는 제외한다\n",
    "\n",
    "# input\n",
    "# 7\n",
    "# 6\n",
    "# 1 2\n",
    "# 2 3\n",
    "# 1 5\n",
    "# 5 2\n",
    "# 5 6\n",
    "# 4 7"
   ]
  },
  {
   "cell_type": "code",
   "execution_count": null,
   "id": "258cfc51-e04d-4798-94c7-63e1958be44a",
   "metadata": {},
   "outputs": [],
   "source": []
  }
 ],
 "metadata": {
  "kernelspec": {
   "display_name": "Python 3 (ipykernel)",
   "language": "python",
   "name": "python3"
  },
  "language_info": {
   "codemirror_mode": {
    "name": "ipython",
    "version": 3
   },
   "file_extension": ".py",
   "mimetype": "text/x-python",
   "name": "python",
   "nbconvert_exporter": "python",
   "pygments_lexer": "ipython3",
   "version": "3.8.11"
  }
 },
 "nbformat": 4,
 "nbformat_minor": 5
}
