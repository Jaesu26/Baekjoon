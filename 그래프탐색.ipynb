{
 "cells": [
  {
   "cell_type": "markdown",
   "id": "b2968dee-af21-4da4-9b0e-6e99c1626fea",
   "metadata": {},
   "source": [
    "# 그래프 탐색(Graph Search)"
   ]
  },
  {
   "cell_type": "markdown",
   "id": "cae64447-7861-455f-9e5a-837ef7996642",
   "metadata": {},
   "source": [
    "## DFS와 BFS\n",
    "\n",
    "- 문제 출처: [백준 1260번](https://www.acmicpc.net/problem/1260)"
   ]
  },
  {
   "cell_type": "markdown",
   "id": "d3d4772e-a7e9-4ce1-b374-f8a607bf2a75",
   "metadata": {},
   "source": [
    "`-` 시작 노드가 그래프에 없는 경우를 고려해줘야 한다(이것때문에 2번 틀림...)"
   ]
  },
  {
   "cell_type": "code",
   "execution_count": 66,
   "id": "94bac957-4e75-4788-85e7-c4ad926260e5",
   "metadata": {},
   "outputs": [
    {
     "name": "stdin",
     "output_type": "stream",
     "text": [
      " 4 5 1\n",
      " 1 2\n",
      " 1 3\n",
      " 1 4\n",
      " 2 4\n",
      " 3 4\n"
     ]
    },
    {
     "name": "stdout",
     "output_type": "stream",
     "text": [
      "1 2 4 3\n",
      "1 2 3 4\n"
     ]
    }
   ],
   "source": [
    "def DFS(graph, start_node):\n",
    "    visited = {} ## 방문한 노드\n",
    "    stack = [] ## 방문할 노드\n",
    "    stack.append(start_node) ## 방문할 노드에 시작 노드 추가\n",
    "    if start_node not in graph: ## 시작 노드가 그래프에 존재하지 않는다면\n",
    "        return [start_node]\n",
    "\n",
    "    while stack:  ## 방문할 노드가 있다면(리스트에 원소가 있으면 True)\n",
    "        node = stack.pop() ## 마지막 노드 추가(스택 구조 사용) \n",
    "        if node not in visited:  ## 만약 아직 방문한 노드가 아니라면\n",
    "            visited[node] = True  ## 이제 방문했으니까 방문한 노드에 추가\n",
    "            stack.extend(reversed(graph[node])) ## 방문한 노드에 연결된 노드를 탐색해보자\n",
    "            \n",
    "    return list(visited.keys()) ## 방문한 노드를 반환\n",
    "\n",
    "def BFS(graph, start_node):\n",
    "    from collections import deque ## deque패키지 import\n",
    "    visited = {} ## 방문한 노드\n",
    "    queue = deque() ## 방문할 노드\n",
    "    queue.append(start_node) ## 방문할 노드에 시작 노드 추가\n",
    "    if start_node not in graph: ## 시작 노드가 그래프에 존재하지 않는다면\n",
    "        return [start_node]\n",
    "\n",
    "    while queue:  ## 방문할 노드가 있다면(리스트에 원소가 있으면 True)\n",
    "        node = queue.popleft() ## 첫번째 노드 추가(큐 구조 사용)   \n",
    "        if node not in visited:  ## 만약 아직 방문한 노드가 아니라면\n",
    "            visited[node] = True  ## 이제 방문했으니까 방문한 노드에 추가\n",
    "            queue.extend(graph[node]) ## 방문한 노드에 연결된 노드를 탐색해보자\n",
    "\n",
    "    return list(visited.keys()) ## 방문한 노드를 반환\n",
    "\n",
    "N, M, V = map(int, input().split())\n",
    "graph = {}\n",
    "\n",
    "for _ in range(M):\n",
    "    keys = list(map(int, input().split()))\n",
    "    for i in range(2):\n",
    "        if keys[-i] in graph:\n",
    "            graph[keys[-i]] = sorted(list(set(graph[keys[-i]] + [keys[-(i+1)]]))) ## grahp에 처음 등장하는 노드가 아닐 때\n",
    "        else:\n",
    "            graph[keys[-i]] = [keys[-(i+1)]] ## grahp에 처음 등장하는 노드일 때\n",
    "            \n",
    "print(*DFS(graph, V))\n",
    "print(*BFS(graph, V))\n",
    "\n",
    "# input\n",
    "# 4 5 1\n",
    "# 1 2\n",
    "# 1 3\n",
    "# 1 4\n",
    "# 2 4\n",
    "# 3 4"
   ]
  },
  {
   "cell_type": "markdown",
   "id": "4866181c-7af8-4473-8baf-20d4500f1458",
   "metadata": {},
   "source": [
    "## 바이러스\n",
    "\n",
    "- 문제 출처: [백준 2606번](https://www.acmicpc.net/problem/2606)"
   ]
  },
  {
   "cell_type": "markdown",
   "id": "f448fd58-de88-4ea6-ae04-130aaf6778fc",
   "metadata": {},
   "source": [
    "`-` DFS로 풀자"
   ]
  },
  {
   "cell_type": "code",
   "execution_count": 68,
   "id": "8b074e74-0f57-487e-928d-be37c6f3bb76",
   "metadata": {},
   "outputs": [
    {
     "name": "stdin",
     "output_type": "stream",
     "text": [
      " 7\n",
      " 6\n",
      " 1 2\n",
      " 2 3\n",
      " 1 5\n",
      " 5 2\n",
      " 5 6\n",
      " 4 7\n"
     ]
    },
    {
     "name": "stdout",
     "output_type": "stream",
     "text": [
      "4\n"
     ]
    }
   ],
   "source": [
    "def DFS(graph, start_node = 1):\n",
    "    visited = {} ## 탐색한 노드는 1번 컴퓨터와 직접적이든 간접적이든 연결되었다\n",
    "    stack = [start_node]\n",
    "    if start_node not in graph: ## 1번 컴퓨터와 연결된 컴퓨터가 없다면\n",
    "        return [start_node]\n",
    "    \n",
    "    while stack:\n",
    "        node = stack.pop()\n",
    "        if node not in visited:\n",
    "            visited[node] = True\n",
    "            stack.extend(reversed(graph[node]))\n",
    "            \n",
    "    return list(visited.keys())\n",
    "\n",
    "graph = {}\n",
    "N = int(input())\n",
    "M = int(input())\n",
    "\n",
    "for _ in range(M):\n",
    "    keys = list(map(int, input().split()))\n",
    "    for i in range(2):\n",
    "        if keys[-i] in graph:\n",
    "            graph[keys[-i]] = sorted(list(set(graph[keys[-i]] + [keys[-(i+1)]]))) ## grahp에 처음 등장하는 노드가 아닐 때\n",
    "        else:\n",
    "            graph[keys[-i]] = [keys[-(i+1)]] ## grahp에 처음 등장하는 노드일 때\n",
    "\n",
    "print(len(DFS(graph)) - 1) ## 1번 컴퓨터를 통해 바이러스에 걸리는 컴퓨터 수이므로 1번 컴퓨터는 제외한다\n",
    "\n",
    "# input\n",
    "# 7\n",
    "# 6\n",
    "# 1 2\n",
    "# 2 3\n",
    "# 1 5\n",
    "# 5 2\n",
    "# 5 6\n",
    "# 4 7"
   ]
  },
  {
   "cell_type": "markdown",
   "id": "0de78edb-c7ee-497a-9773-04afe6803440",
   "metadata": {},
   "source": [
    "## 미로 탐색\n",
    "\n",
    "- 문제 출처: [백준 2178번](https://www.acmicpc.net/problem/2178)"
   ]
  },
  {
   "cell_type": "markdown",
   "id": "8a072dfd-2c29-4371-be90-57c2b02d4691",
   "metadata": {},
   "source": [
    "`-` $(1,1)$부터 시작하여 $(N,M)$까지 이동할 수 있는 좌표들을 BFS를 통해 최단 거리를 구하면 된다\n",
    "\n",
    "`-` BFS이므로(각각의 경로에서 출발하여 한 칸씩 움직인다) 제일 먼저 $(N,M)$에 도착하는 경로가 최단 거리이므로 그 때의 거리를 기록하면 된다"
   ]
  },
  {
   "cell_type": "code",
   "execution_count": 115,
   "id": "8874d702-4c90-4784-afcc-ce246ea96aed",
   "metadata": {},
   "outputs": [
    {
     "name": "stdin",
     "output_type": "stream",
     "text": [
      " 2 25\n",
      " 1011101110111011101110111\n",
      " 1110111011101110111011101\n"
     ]
    },
    {
     "name": "stdout",
     "output_type": "stream",
     "text": [
      "38\n"
     ]
    }
   ],
   "source": [
    "from collections import deque\n",
    "N, M = map(int, input().split())\n",
    "ls = [list(input()) for _ in range(N)]\n",
    "graph = {}\n",
    "\n",
    "## BFS\n",
    "def BFS(graph : dict, start_node : list) -> int:\n",
    "    visited = {}\n",
    "    queue = deque(start_node) \n",
    "    distance = 0\n",
    "    \n",
    "    while queue:\n",
    "        queue_size = len(queue) ## 현재 queue에 저장된 개수(같은 높이의 정점)\n",
    "        while queue_size:  ## 같은 높이의 정점들을 탐색, 값이 0이 되면 다음 층(높이) 탐색\n",
    "            node = queue.popleft()\n",
    "            if node[-1] == '1': ## 1은 이동 가능, 0은 이동 불가능  \n",
    "                if node == (N-1, M-1, '1'): ## 목표지점(N,M)에 도착\n",
    "                    return (distance + 1) ## 최단 경로 = 이때의 그래프에서 좌표의 높이\n",
    "                if node not in visited:\n",
    "                    visited[node] = True\n",
    "                    queue.extend(graph[node])\n",
    "            queue_size -= 1\n",
    "        distance += 1              \n",
    "    return False \n",
    "\n",
    "## 무지성 그래프(미로) 기록\n",
    "for i in range(N):\n",
    "    for j in range(M):\n",
    "        if i == 0:  ## 1층\n",
    "            if j == 0:\n",
    "                graph[(i, j, ls[i][j])] = [(i, j+1, ls[i][j+1]), (i+1, j, ls[i+1][j])] ## 우, 하\n",
    "            elif j == M-1:\n",
    "                graph[(i, j, ls[i][j])] = [(i, j-1, ls[i][j-1]), (i+1, j, ls[i+1][j])] ## 좌, 하\n",
    "            else:\n",
    "                graph[(i, j, ls[i][j])] = [(i, j-1, ls[i][j-1]), (i, j+1, ls[i][j+1]), (i+1, j, ls[i+1][j])] ## 좌, 우, 하\n",
    "                \n",
    "        elif i == N-1:  ## 마지막층\n",
    "            if j == 0:\n",
    "                graph[(i, j, ls[i][j])] = [(i, j+1, ls[i][j+1]), (i-1, j, ls[i-1][j])] ## 우, 상\n",
    "            elif j == M-1:\n",
    "                graph[(i, j, ls[i][j])] = [(i, j-1, ls[i][j-1]), (i-1, j, ls[i-1][j])] ## 좌, 상\n",
    "            else:\n",
    "                graph[(i, j, ls[i][j])] = [(i, j-1, ls[i][j-1]), (i, j+1, ls[i][j+1]), (i-1, j, ls[i-1][j])] ## 좌, 우, 상\n",
    "                \n",
    "        else:  ## 나머지층\n",
    "            if j == 0:\n",
    "                graph[(i, j, ls[i][j])] = [(i, j+1, ls[i][j+1]), (i-1, j, ls[i-1][j]), (i+1, j, ls[i+1][j])] ## 우, 상, 하\n",
    "            elif j == M-1:\n",
    "                graph[(i, j, ls[i][j])] = [(i, j-1, ls[i][j-1]), (i-1, j, ls[i-1][j]), (i+1, j, ls[i+1][j])] ## 좌, 상, 하\n",
    "            else:\n",
    "                graph[(i, j, ls[i][j])] = [(i, j-1, ls[i][j-1]), (i, j+1, ls[i][j+1]), (i-1, j, ls[i-1][j]), (i+1, j, ls[i+1][j])] ## 좌, 우, 상, 하\n",
    "                \n",
    "print(BFS(graph, [(0, 0, '1')]))\n",
    "\n",
    "# input\n",
    "# 2 25\n",
    "# 1011101110111011101110111\n",
    "# 1110111011101110111011101"
   ]
  },
  {
   "cell_type": "markdown",
   "id": "2f6d8e41-2391-4a45-a10b-c87ce84ab146",
   "metadata": {},
   "source": [
    "## 숨바꼭질\n",
    "\n",
    "- 문제 출처: [백준 1697번](https://www.acmicpc.net/problem/1697)"
   ]
  },
  {
   "cell_type": "markdown",
   "id": "5816d25f-1159-40cb-a96b-0ee5b63c0110",
   "metadata": {
    "tags": []
   },
   "source": [
    "`-` [미로 탐색](https://www.acmicpc.net/problem/2178)과 비슷한 유형(그래프 탐색)의 문제이다\n",
    "\n",
    "`-` 위의 미로 탐색 문제를 풀 땐 그래프 기록을 힘들게 했는데\n",
    "\n",
    "`-` 이번 문제는 미로 탐색 문제보다 간단하게 풀어보자\n",
    "\n",
    "`-` `수빈의 위치 > 동생의 위치`이면 `최단 시간`은 `수빈의 위치 - 동생의 위치`이다\n",
    "\n",
    "`-` $\\text{dp[$x$]}$는 처음 수빈의 위치 $N$에서 $x$까지 가는데 걸리는 최소 시간으로 정의하고 BFS 수행하면 된다\n",
    "\n",
    "`-` 이미 방문한 위치를 또 방문하는 경우는 다음 사이클로 넘어가면 되는데 왜냐하면 BFS이므로 먼저 방문했을때의 시간이 더 짧거나 같다\n",
    "\n",
    "- 보충 설명\n",
    "\n",
    "`-` 처음 수빈의 위치에서 시작하여 사이클이 주어지고 해당 위치에서 $(+1,\\, -1,\\, \\times 2)$를 수행하는데\n",
    "\n",
    "`-` 해당 위치에서 $(+1,\\, -1,\\, \\times 2)$ 사이클을 마쳐야 계산된 숫자에 대해서 사이클을 시작한다\n",
    "\n",
    "`-` ex) 수빈의 위치는 $5$이고 동생의 위치는 $11$이라고 하자\n",
    "\n",
    "`-` $5$에 대해 $(+1,\\, -1,\\, \\times 2)$을 실행함 ---> $(6, 4, 10)$이 되고 해당 위치에 시간을 기록한다\n",
    "\n",
    "`-` $(6, 4, 10)$에 대해 차례대로 $(+1,\\, -1,\\, \\times 2)$을 실행함 ---> $(7, 5, 12), (5, 3, 8), (11, 9, 20)$이 된다\n",
    "\n",
    "`-` $10$에서 $+1$을 수행하여 $11$이 되었으므로 탐색을 마친다\n",
    "\n",
    "`-` ??? : 시간이 더 짧은 경로가 있을 수 있지 않나?\n",
    "\n",
    "`-` 수빈의 위치를 루트 노드라 하면 동생의 위치까지의 경로들을 그래프로 나타낼 수 있는데\n",
    "\n",
    "`-` 최단 시간을 가지는 경로는 그래프상에서 제일 낮은 레벨(해당 노드의 높이)에 위치한다(위의 예시에서는 2)\n",
    "\n",
    "`-` 동생의 위치까지 가는 모든 경로의 출발점은 수빈의 위치(루트 노드)이고 각각의 경로마다 다음 위치로 한 칸씩 이동한다(너비 우선 탐색)\n",
    "\n",
    "`-` 동일하게 한 칸씩 이동하므로 제일 먼저 동생의 위치에 도착한 경로는 자연스럽게 최단 시간을 가지게 된다"
   ]
  },
  {
   "cell_type": "code",
   "execution_count": 34,
   "id": "a1a2ae6b-c3de-47e8-83b9-7db8955470dd",
   "metadata": {},
   "outputs": [
    {
     "name": "stdin",
     "output_type": "stream",
     "text": [
      " 5 17\n"
     ]
    },
    {
     "name": "stdout",
     "output_type": "stream",
     "text": [
      "4\n"
     ]
    }
   ],
   "source": [
    "from collections import deque\n",
    "N, K = map(int, input().split()) ## 수빈의 위치, 동생의 위치\n",
    "queue = deque([N]) \n",
    "dp = [0] * 100002 ## 0~100002\n",
    "\n",
    "while True: ## 목표지점에 다다르기 전까지\n",
    "    ## while not dp[K]로만 판단하는 것은 틀렸는데 왜냐하면 N=K인 경우 return값이 2이기 때문이다(-1하고 다시 +1)\n",
    "    node = queue.popleft()\n",
    "    if node == K: ## 목표지점에 도착 ## N=k인 경우 입구컷\n",
    "        break\n",
    "\n",
    "    if node < K: ## x+1\n",
    "        if dp[node+1] == 0: ## 처음 방문했는지 판단 ## 처음 방문한 경로가 최단 경로이므로 이미 방문했다면 방문할 필요가 없다(시간 감소)\n",
    "            dp[node+1] = dp[node] + 1 \n",
    "            queue.append(node+1)\n",
    "            \n",
    "    if node*2 <= K + 1: \n",
    "    ## ex) n = 50, k = 99 : n*2 -> n-1\n",
    "    ## ex) n = 50, k = 98 : n*2 -> n-1 -> n-1 ---> 3 sec but n-1 -> n*2 is 2 sec\n",
    "        if dp[node*2] == 0: ## 처음 방문함\n",
    "            dp[node*2] = dp[node] + 1\n",
    "            queue.append(node*2)\n",
    "    \n",
    "    ## x-1\n",
    "    if node > 0: ## node가 0인데 뒤로가는건 말도 안된다, 적어도 1은 되야함\n",
    "        if dp[node-1] == 0: ## 처음 방문함\n",
    "            dp[node-1] = dp[node] + 1\n",
    "            queue.append(node-1)\n",
    "            \n",
    "print(dp[K])\n",
    "\n",
    "# input\n",
    "# 5 17"
   ]
  },
  {
   "cell_type": "markdown",
   "id": "392935e1-bb32-40cb-8178-e6d2402372f2",
   "metadata": {},
   "source": [
    "## 숨바꼭질 4\n",
    "\n",
    "- 문제 출처: [백준 13913번](https://www.acmicpc.net/problem/13913)"
   ]
  },
  {
   "cell_type": "markdown",
   "id": "0280d0c5-f15a-4ec7-8306-bbed391380ff",
   "metadata": {},
   "source": [
    "`-` 기존의 [숨바꼭질](https://www.acmicpc.net/problem/1697) 문제에서 경로만 추가하면 된다\n",
    "\n",
    "`-` 경로는 해시테이블을 이용해서 구한다(연결리스트?)"
   ]
  },
  {
   "cell_type": "code",
   "execution_count": 32,
   "id": "0a212e53-9ab7-46f5-a0fb-4641708a047a",
   "metadata": {},
   "outputs": [
    {
     "name": "stdin",
     "output_type": "stream",
     "text": [
      " 5 17\n"
     ]
    },
    {
     "name": "stdout",
     "output_type": "stream",
     "text": [
      "4\n",
      "5 10 9 18 17\n"
     ]
    }
   ],
   "source": [
    "from collections import deque\n",
    "N, K = map(int, input().split()) ## 수빈의 위치, 동생의 위치\n",
    "k = K\n",
    "route = deque([K])\n",
    "queue = deque([N]) \n",
    "dp = [0] * 100002 ## 0~100002\n",
    "visited = {} ## 해시테이블 \n",
    "## 만약 N = 5, K = 11이라면 5 -> 10 -> 11 경로가 최단시간이다\n",
    "## 이때 visited에는 전의 경로를 기록한다 ---> visited[11] = 10, visited[10] = 5 (연결리스트??)\n",
    "## route는 K(11) -> visited[K] -> visited[visited[K]]의 역순이다\n",
    "\n",
    "while True: ## 목표지점에 다다르기 전까지\n",
    "    node = queue.popleft()\n",
    "    if node == K: ## 목표지점에 도착\n",
    "        break\n",
    "    \n",
    "    if node < K: ## x+1\n",
    "        if dp[node+1] == 0: ## 처음 방문함\n",
    "            dp[node+1] = dp[node] + 1 \n",
    "            visited[node+1] = node \n",
    "            queue.append(node+1)\n",
    "            \n",
    "    if node*2 <= K + 1: \n",
    "    ## ex) n = 50, k = 99 : n*2 -> n-1\n",
    "    ## ex) n = 50, k = 98 : n*2 -> n-1 -> n-1 ---> 3 sec but n-1 -> n*2 is 2 sec\n",
    "        if dp[node*2] == 0: ## 처음 방문함\n",
    "            dp[node*2] = dp[node] + 1\n",
    "            visited[node*2] = node\n",
    "            queue.append(node*2)\n",
    "    \n",
    "    ## x-1\n",
    "    if node > 0: ## node가 0인데 뒤로가는건 말도 안된다, 적어도 1은 되야함\n",
    "        if dp[node-1] == 0: ## 처음 방문함\n",
    "            dp[node-1] = dp[node] + 1\n",
    "            visited[node-1] = node\n",
    "            queue.append(node-1)\n",
    "            \n",
    "## 경로 \n",
    "while N != k:\n",
    "    route.appendleft(visited[k])\n",
    "    k = visited[k]\n",
    "\n",
    "print(dp[K])\n",
    "print(*route)\n",
    "\n",
    "# input\n",
    "# 5 17"
   ]
  },
  {
   "cell_type": "code",
   "execution_count": null,
   "id": "dcf7e487-6502-4c8c-bb64-58668197dd7b",
   "metadata": {},
   "outputs": [],
   "source": []
  }
 ],
 "metadata": {
  "kernelspec": {
   "display_name": "Python 3 (ipykernel)",
   "language": "python",
   "name": "python3"
  },
  "language_info": {
   "codemirror_mode": {
    "name": "ipython",
    "version": 3
   },
   "file_extension": ".py",
   "mimetype": "text/x-python",
   "name": "python",
   "nbconvert_exporter": "python",
   "pygments_lexer": "ipython3",
   "version": "3.8.11"
  }
 },
 "nbformat": 4,
 "nbformat_minor": 5
}
