{
 "cells": [
  {
   "cell_type": "markdown",
   "id": "f764d2c8-9934-4db3-95fe-d80b3ba50708",
   "metadata": {},
   "source": [
    "# 분할 정복"
   ]
  },
  {
   "cell_type": "markdown",
   "id": "270db603-cea8-4540-9405-d26087c0990c",
   "metadata": {},
   "source": [
    "## 곱셈\n",
    "\n",
    "- 문제 출처: [백준 1629번](https://www.acmicpc.net/problem/1629)"
   ]
  },
  {
   "cell_type": "markdown",
   "id": "b0fc8912-1c50-4ef7-811d-76a5744688bb",
   "metadata": {},
   "source": [
    "`-` $(A \\times B)\\, \\%\\, C = ((A\\, \\%\\, C) \\times (B\\, \\%\\, C))\\, \\%\\, C$\n",
    "\n",
    "`-` 머리가 바보가 돼서 공부하고 옴\n",
    "\n",
    "`-` $a^8$을 구한다고 생각해보자\n",
    "\n",
    "`-` $a^8= (a^4)^2 =((a^2)^2)^2$\n",
    "\n",
    "`-` $a^8$을 구하기 위해서는 $a$를 8번 곱해야 하지만 살짝 변형하면 3번의 연산으로도 가능하다\n",
    "\n",
    "`-` 즉, 원래의 연산 횟수가 $b$라면 연산 횟수를 $\\log_{2}b$로 줄일 수 있는 것!\n",
    "\n",
    "`-` 만약 $b$가 짝수라면 위의 논리를 적용하면 된다\n",
    "\n",
    "`-` 만약 $b$가 홀수라면 $a^b=a\\times a^{b-1}$로 바꾸고 $a^{b-1}$에 대해 위의 논리를 적용하면 된다"
   ]
  },
  {
   "cell_type": "code",
   "execution_count": 90,
   "id": "679a1c5f-824a-4a6d-9f7e-9dd34e544e71",
   "metadata": {},
   "outputs": [
    {
     "name": "stdin",
     "output_type": "stream",
     "text": [
      " 10 11 12\n"
     ]
    },
    {
     "name": "stdout",
     "output_type": "stream",
     "text": [
      "4\n"
     ]
    }
   ],
   "source": [
    "A, B, C = map(int, input().split())\n",
    "\n",
    "def mul(a, b, c):\n",
    "    if b <= 2:\n",
    "        return (a ** b) % c \n",
    "    if b % 2 == 0:\n",
    "        x = mul(a, b//2, c) \n",
    "        x %= c\n",
    "        return x ** 2\n",
    "    else:\n",
    "        x = mul(a, (b-1)//2, c)\n",
    "        x %= c\n",
    "        return a * (x ** 2)\n",
    "    \n",
    "print(mul(A, B, C) % C)\n",
    "\n",
    "# input\n",
    "# 10\n",
    "# 11\n",
    "# 12"
   ]
  },
  {
   "cell_type": "markdown",
   "id": "fa37e50f-e083-4ae6-9d54-e2fbe8fc638c",
   "metadata": {},
   "source": [
    "`-` 힘들게 풀었는데... 파이썬에서 pow(a, b, c)하면 풀린다 하더라..."
   ]
  },
  {
   "cell_type": "code",
   "execution_count": 88,
   "id": "26541594-6314-4009-9ec1-3ef222d7aa24",
   "metadata": {},
   "outputs": [
    {
     "name": "stdin",
     "output_type": "stream",
     "text": [
      " 10 11 12\n"
     ]
    },
    {
     "name": "stdout",
     "output_type": "stream",
     "text": [
      "4\n"
     ]
    }
   ],
   "source": [
    "print(pow(*map(int, input().split())))"
   ]
  },
  {
   "cell_type": "markdown",
   "id": "a109f370-a79f-40ef-8095-a88f793bce1a",
   "metadata": {},
   "source": [
    "## 색종이 만들기\n",
    "\n",
    "- 문제 출처: [백준 2630번](https://www.acmicpc.net/problem/2630)"
   ]
  },
  {
   "cell_type": "markdown",
   "id": "d7f3ab80-3844-4bf8-8fbc-67463918360b",
   "metadata": {},
   "source": [
    "`-` 재귀함수로 풀면 된다"
   ]
  },
  {
   "cell_type": "code",
   "execution_count": 59,
   "id": "69341b9c-9090-4b23-9356-4e3cab40ad36",
   "metadata": {},
   "outputs": [
    {
     "name": "stdin",
     "output_type": "stream",
     "text": [
      " 8\n",
      " 1 1 0 0 0 0 1 1\n",
      " 1 1 0 0 0 0 1 1\n",
      " 0 0 0 0 1 1 0 0\n",
      " 0 0 0 0 1 1 0 0\n",
      " 1 0 0 0 1 1 1 1\n",
      " 0 1 0 0 1 1 1 1\n",
      " 0 0 1 1 1 1 1 1\n",
      " 0 0 1 1 1 1 1 1\n"
     ]
    },
    {
     "name": "stdout",
     "output_type": "stream",
     "text": [
      "9\n",
      "7\n"
     ]
    }
   ],
   "source": [
    "def cut_square(square):\n",
    "    global white\n",
    "    global blue\n",
    "    \n",
    "    n = len(square)  ## n*n 크기의 정사각형   \n",
    "    if sum(map(sum, square)) == 0:  ## 하얀색으로만 이루어진 색종이\n",
    "        white += 1\n",
    "        return ## 모두 같은 색으로만 이루어진 색종이이므로 더 이상 cutting할 필요가 없다(=함수 끝)\n",
    "    elif sum(map(sum, square)) == n*n:  ## 파랑색으로만 이루어진 색종이\n",
    "        blue += 1\n",
    "        return ## 함수 끝\n",
    "        \n",
    "    m = n // 2  ## 중심을 기준으로 나누자\n",
    "    s1 = [square[:m][i][:m] for i in range(m)]  ## 좌상\n",
    "    s2 = [square[:m][i][m:] for i in range(m)]  ## 우상\n",
    "    s3 = [square[m:][i][:m] for i in range(m)]  ## 좌하\n",
    "    s4 = [square[m:][i][m:] for i in range(m)]  ## 우하\n",
    "    \n",
    "    for s in [s1, s2, s3, s4]:\n",
    "        cut_square(s)\n",
    "        \n",
    "    ##################################### 설명 ##################################### \n",
    "    ## 값을 다 더해서 체크를 하자, 예컨대 4*4크기의 정사각형을 중심을 기준으로 나누면\n",
    "    ## 2*2크기의 정사각형 4개가 생기는데 각각의 정사각형의 값들을 더해서 나온 숫자가\n",
    "    ## 0(=2*2*0)또는 4(=2*2*1)라면 불순물이 없는것이고 아니라면\n",
    "    ## 2*2크기의 정사각형을 중심을 기준으로 나누어 1*1크기의 정사각형으로 만든다\n",
    "    ## 1*1크기의 정사각형은 검증할 필요가 없으므로 함수를 break한다\n",
    "    ################################################################################\n",
    "    \n",
    "N = int(input())\n",
    "square = [list(map(int, input().split())) for _ in range(N)]\n",
    "blue = 0  ## 총 파란색종이 개수\n",
    "white = 0 ## 총 하얀색종이 개수\n",
    "\n",
    "cut_square(square)\n",
    "print(white)\n",
    "print(blue)\n",
    "\n",
    "# input\n",
    "# 8\n",
    "# 1 1 0 0 0 0 1 1\n",
    "# 1 1 0 0 0 0 1 1\n",
    "# 0 0 0 0 1 1 0 0\n",
    "# 0 0 0 0 1 1 0 0\n",
    "# 1 0 0 0 1 1 1 1\n",
    "# 0 1 0 0 1 1 1 1\n",
    "# 0 0 1 1 1 1 1 1\n",
    "# 0 0 1 1 1 1 1 1"
   ]
  },
  {
   "cell_type": "markdown",
   "id": "16ef23a1-a53b-4b9a-b5b0-42d3a282cc40",
   "metadata": {},
   "source": [
    "## Z\n",
    "\n",
    "- 문제 출처: [백준 1074번](https://www.acmicpc.net/problem/1074)"
   ]
  },
  {
   "cell_type": "markdown",
   "id": "634c9d27-edfa-4abe-89f4-8e7cea89bd7c",
   "metadata": {},
   "source": [
    "`-` 방문은 좌상 $\\to$ 우상 $\\to$ 좌하 $\\to$ 우하 순이다\n",
    "\n",
    "`-` 그냥 수학 공식을 유도해서 풀 수 있을 것 같지만 생각하다 때려쳤다\n",
    "\n",
    "`-` $2^n\\times 2^n$ 배열($0 \\sim 2^{2n}-1$)에 대해 방문하면서 배열에 방문순서를 기록한다\n",
    "\n",
    "`-` 그러면 방문을 마친 뒤 인덱싱을 통해 $r$행 $c$열을 몇 번째로 방문했는지 알 수 있다\n",
    "\n",
    "`-` 그런데 생각해보니 위에 방식대로 하면 $n=15$인 경우에 대해선 제한시간안에 해결할 수 없다\n",
    "\n",
    "`-` $2^{15}\\times 2^{15}\\approx 10억$이므로 $0.5$초 안에 해결 불가능함\n",
    "\n",
    "- 그래서 다시 수학적으로 접근하기로 함\n",
    "\n",
    "`-` 우선 $2^n\\times 2^n$ 배열에서 $(r,c)$가 좌상, 우상, 좌하, 우하 중 어디에 속하는지 파악하자\n",
    "\n",
    "`-` 만약 좌하에 속한다면 $(r,c)$의 방문 순서는 $\\frac{2}{4}\\left(2^{2n}\\right)$와 $\\frac{3}{4}\\left(2^{2n}\\right) - 1$ 사이에 속한다\n",
    "\n",
    "`-` 다시 말하자면  $(r,c)$의 방문 순서는  $\\frac{2}{4}\\left(2^{2n}\\right)+\\{0\\}$과  $\\frac{2}{4}\\left(2^{2n}\\right)+\\left\\{2^{n-1}\\times 2^{n-1} - 1\\right\\}$ 사이에 속한다\n",
    "\n",
    "`-` 즉, 기존의 배열에서 $(r,c)$가 좌하에 위치했으므로 새로운 배열 $2^{n-1}\\times 2^{n-1}$에서 $\\left(r-\\frac{n}{2},c\\right)$의 방문 순서를 구한 뒤 $\\frac{2}{4}\\left(2^{2n}\\right)$를 더해주면 된다\n",
    "\n",
    "`-` 위에서는 모든 배열에 대해 방문 순서를 계산했지만 분할정복을 통해 필요한 좌표의 방문 순서만 계산\n",
    "\n",
    "- Bit Shift 연산(<<, >>)\n",
    "\n",
    "`-` `a << x`는 $a\\times 2^x$를 의미\n",
    "\n",
    "`-` 파이썬은 `**` 쓰면 되지만 C++은 `pow`를 써야하는데 값이 클 경우 오차 문제가 생길 수 있음"
   ]
  },
  {
   "cell_type": "code",
   "execution_count": 111,
   "id": "b356a9ad-f8d8-4f82-a0ed-d8b5fc9e1fef",
   "metadata": {},
   "outputs": [
    {
     "name": "stdin",
     "output_type": "stream",
     "text": [
      " 4 7 7\n"
     ]
    },
    {
     "name": "stdout",
     "output_type": "stream",
     "text": [
      "63\n"
     ]
    }
   ],
   "source": [
    "def Z(n, r, c): ## 2^n X 2^n 배열에서 (r,c)의 방문순서를 찾자(탐색은 Z순서)\n",
    "    global seq ## 방문 순서\n",
    "    if n == 0: \n",
    "        return 0 ## 2^0 X 2^0(=1 X 1) 배열에서 방문 순서는 0이다\n",
    "    \n",
    "    ## (r,c)가 상, 하, 좌, 우 중에서 어디에 속하는지 확인\n",
    "    m = 1 << (n - 1) ## 2^(n-1)과 동일함\n",
    "    if r <= m:\n",
    "        if c <= m: ## 좌상\n",
    "            seq += Z(n - 1, r, c)\n",
    "        else: ## 우상\n",
    "            seq += (1 * 2**(2*n - 2) + Z(n - 1, r, c - m))\n",
    "    else:\n",
    "        if c <= m: ## 좌하 \n",
    "            seq += (2 * 2**(2*n - 2) + Z(n - 1, r - m, c))\n",
    "        else: ## 우하\n",
    "            seq += (3 * 2**(2*n - 2) + Z(n - 1, r - m, c - m))\n",
    "    return seq\n",
    "\n",
    "## 입력과 출력\n",
    "seq = 0 ## 방문 순서\n",
    "n, r, c = map(int, input().split())\n",
    "print(Z(n, r + 1, c + 1))\n",
    "\n",
    "# input\n",
    "# 4 7 7"
   ]
  },
  {
   "cell_type": "markdown",
   "id": "ccd20d93-2233-4f20-a750-bb91e5bfaaec",
   "metadata": {},
   "source": [
    "## 쿼드트리\n",
    "\n",
    "- 문제 출처: [백준 1992번](https://www.acmicpc.net/problem/1992)"
   ]
  },
  {
   "cell_type": "markdown",
   "id": "2e33e6a9-add0-4907-a6e0-a878543d7b64",
   "metadata": {},
   "source": [
    "`-` 기본적인 분할정복 문제"
   ]
  },
  {
   "cell_type": "code",
   "execution_count": 70,
   "id": "d158d4f9-fdb8-4409-8272-af7d2bc1c39e",
   "metadata": {},
   "outputs": [
    {
     "name": "stdin",
     "output_type": "stream",
     "text": [
      " 2\n",
      " 00\n",
      " 00\n"
     ]
    },
    {
     "name": "stdout",
     "output_type": "stream",
     "text": [
      "0\n"
     ]
    }
   ],
   "source": [
    "def compress(quadtree):\n",
    "    n = len(quadtree) ## n X n 크기의 쿼드트리\n",
    "    total = sum(map(sum, quadtree))\n",
    "    if total == 0: ## only white\n",
    "        return '0'\n",
    "    elif total == n * n: ## only black\n",
    "        return '1'\n",
    "    \n",
    "    ## 쿼드트리가 한가지 색으로 압축되지 않으므로 사분할\n",
    "    m = n // 2\n",
    "    left_up = [quadtree[:m][i][:m] for i in range(m)] ## 좌상\n",
    "    right_up = [quadtree[:m][i][m:] for i in range(m)] ## 우상\n",
    "    left_down = [quadtree[m:][i][:m] for i in range(m)] ## 좌하\n",
    "    right_down = [quadtree[m:][i][m:] for i in range(m)] ## 우하\n",
    "    \n",
    "    ## 쿼드트리 압축\n",
    "    qt1 = compress(left_up)\n",
    "    qt2 = compress(right_up)\n",
    "    qt3 = compress(left_down)\n",
    "    qt4 = compress(right_down)\n",
    "    compressed_quadtree = ''.join(['(', qt1, qt2, qt3, qt4, ')'])\n",
    "    \n",
    "    return compressed_quadtree\n",
    "\n",
    "## 입력\n",
    "N = int(input())\n",
    "quadtree = [[*map(int, input())] for _ in range(N)]\n",
    "print(compress(quadtree))"
   ]
  },
  {
   "cell_type": "markdown",
   "id": "8af98323-2776-4901-80f7-b1a34cdf7c76",
   "metadata": {},
   "source": [
    "## 종이의 개수\n",
    "\n",
    "- 문제 출처: [백준 1780번](https://www.acmicpc.net/problem/1780)"
   ]
  },
  {
   "cell_type": "markdown",
   "id": "a2ce6179-f060-4ecc-baf6-c16e2d3bab7e",
   "metadata": {},
   "source": [
    "`-` 기본적인 분할정복 문제, 그런데 이제 경우의 수가 3개로 늘어난\n",
    "\n",
    "`-` $0$으로만 채워진 종이를 판단할 때 전체 합을 기준으로 하면 안됨($1$과 $-1$의 개수가 동일하면 합이 $0$이다)"
   ]
  },
  {
   "cell_type": "code",
   "execution_count": 329,
   "id": "90c0682d-9e9e-4297-8a32-0bee488c2909",
   "metadata": {},
   "outputs": [
    {
     "name": "stdin",
     "output_type": "stream",
     "text": [
      " 9\n",
      " 0 0 0 1 1 1 -1 -1 -1\n",
      " 0 0 0 1 1 1 -1 -1 -1\n",
      " 0 0 0 1 1 1 -1 -1 -1\n",
      " 1 1 1 0 0 0 0 0 0\n",
      " 1 1 1 0 0 0 0 0 0\n",
      " 1 1 1 0 0 0 0 0 0\n",
      " 0 1 -1 0 1 -1 0 1 -1\n",
      " 0 -1 1 0 1 -1 0 1 -1\n",
      " 0 1 -1 1 0 -1 0 1 -1\n"
     ]
    },
    {
     "name": "stdout",
     "output_type": "stream",
     "text": [
      "10\n",
      "12\n",
      "11\n"
     ]
    }
   ],
   "source": [
    "def cut_paper(papers):\n",
    "    global minus_paper\n",
    "    global plus_paper\n",
    "    global zero_paper\n",
    "    \n",
    "    n = len(papers) ## n X n 크기\n",
    "    cnt1, cnt2, cnt3 = 0, 0, 0\n",
    "\n",
    "    for i in range(n):\n",
    "        for j in range(n):\n",
    "            if papers[i][j] == -1:\n",
    "                cnt1 += 1\n",
    "            elif papers[i][j] == 0:\n",
    "                cnt2 += 1\n",
    "            else:\n",
    "                cnt3 += 1\n",
    "            \n",
    "    if cnt1 == n*n:\n",
    "        minus_paper += 1\n",
    "        return ## 함수 끝\n",
    "    elif cnt2 == n*n:\n",
    "        zero_paper += 1\n",
    "        return ## 함수 끝\n",
    "    elif cnt3 == n*n:\n",
    "        plus_paper += 1\n",
    "        return ## 함수 끝\n",
    "\n",
    "    ## 기준점\n",
    "    m1 = n // 3\n",
    "    m2 = 2 * m1\n",
    "    \n",
    "    ## 종이 9분할\n",
    "    p1 = [papers[:m1][i][:m1] for i in range(m1)]\n",
    "    p2 = [papers[:m1][i][m1:m2] for i in range(m1)]\n",
    "    p3 = [papers[:m1][i][m2:] for i in range(m1)]\n",
    "    p4 = [papers[m1:m2][i][:m1] for i in range(m1)]\n",
    "    p5 = [papers[m1:m2][i][m1:m2] for i in range(m1)]\n",
    "    p6 = [papers[m1:m2][i][m2:] for i in range(m1)]\n",
    "    p7 = [papers[m2:][i][:m1] for i in range(m1)]\n",
    "    p8 = [papers[m2:][i][m1:m2] for i in range(m1)]\n",
    "    p9 = [papers[m2:][i][m2:] for i in range(m1)]\n",
    "    \n",
    "    for p in [p1, p2, p3, p4, p5, p6, p7, p8, p9]:\n",
    "        cut_paper(p)\n",
    "\n",
    "## 입력\n",
    "N = int(input())\n",
    "paper = [[*map(int, input().split())] for _ in range(N)]\n",
    "minus_paper = 0 ## -1 종이의 개수\n",
    "plus_paper = 0 ## +1 종이의 개수\n",
    "zero_paper = 0 ## 0 종이의 개수\n",
    "cut_paper(paper)\n",
    "\n",
    "## 출력\n",
    "print('\\n'.join(map(str, [minus_paper, zero_paper, plus_paper])))\n",
    "\n",
    "# input\n",
    "# 9\n",
    "# 0 0 0 1 1 1 -1 -1 -1\n",
    "# 0 0 0 1 1 1 -1 -1 -1\n",
    "# 0 0 0 1 1 1 -1 -1 -1\n",
    "# 1 1 1 0 0 0 0 0 0\n",
    "# 1 1 1 0 0 0 0 0 0\n",
    "# 1 1 1 0 0 0 0 0 0\n",
    "# 0 1 -1 0 1 -1 0 1 -1\n",
    "# 0 -1 1 0 1 -1 0 1 -1\n",
    "# 0 1 -1 1 0 -1 0 1 -1"
   ]
  },
  {
   "cell_type": "code",
   "execution_count": null,
   "id": "a21b71a7-be79-411f-9d58-49518f2e0e39",
   "metadata": {},
   "outputs": [],
   "source": []
  }
 ],
 "metadata": {
  "kernelspec": {
   "display_name": "Python 3 (ipykernel)",
   "language": "python",
   "name": "python3"
  },
  "language_info": {
   "codemirror_mode": {
    "name": "ipython",
    "version": 3
   },
   "file_extension": ".py",
   "mimetype": "text/x-python",
   "name": "python",
   "nbconvert_exporter": "python",
   "pygments_lexer": "ipython3",
   "version": "3.8.11"
  }
 },
 "nbformat": 4,
 "nbformat_minor": 5
}
