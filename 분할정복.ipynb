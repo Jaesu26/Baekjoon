{
 "cells": [
  {
   "cell_type": "markdown",
   "id": "f764d2c8-9934-4db3-95fe-d80b3ba50708",
   "metadata": {},
   "source": [
    "# 분할 정복"
   ]
  },
  {
   "cell_type": "markdown",
   "id": "270db603-cea8-4540-9405-d26087c0990c",
   "metadata": {},
   "source": [
    "## 곱셈\n",
    "\n",
    "- 문제 출처: [백준 1629번](https://www.acmicpc.net/problem/1629)"
   ]
  },
  {
   "cell_type": "markdown",
   "id": "b0fc8912-1c50-4ef7-811d-76a5744688bb",
   "metadata": {},
   "source": [
    "`-` $(A \\times B)\\, \\%\\, C = ((A\\, \\%\\, C) \\times (B\\, \\%\\, C))\\, \\%\\, C$\n",
    "\n",
    "`-` 머리가 바보가 돼서 공부하고 옴\n",
    "\n",
    "`-` $a^8$을 구한다고 생각해보자\n",
    "\n",
    "`-` $a^8= (a^4)^2 =((a^2)^2)^2$\n",
    "\n",
    "`-` $a^8$을 구하기 위해서는 $a$를 8번 곱해야 하지만 살짝 변형하면 3번의 연산으로도 가능하다\n",
    "\n",
    "`-` 즉, 원래의 연산 횟수가 $b$라면 연산 횟수를 $\\log_{2}b$로 줄일 수 있는 것!\n",
    "\n",
    "`-` 만약 $b$가 짝수라면 위의 논리를 적용하면 된다\n",
    "\n",
    "`-` 만약 $b$가 홀수라면 $a^b=a\\times a^{b-1}$로 바꾸고 $a^{b-1}$에 대해 위의 논리를 적용하면 된다"
   ]
  },
  {
   "cell_type": "code",
   "execution_count": 90,
   "id": "679a1c5f-824a-4a6d-9f7e-9dd34e544e71",
   "metadata": {},
   "outputs": [
    {
     "name": "stdin",
     "output_type": "stream",
     "text": [
      " 10 11 12\n"
     ]
    },
    {
     "name": "stdout",
     "output_type": "stream",
     "text": [
      "4\n"
     ]
    }
   ],
   "source": [
    "A, B, C = map(int, input().split())\n",
    "\n",
    "def mul(a, b, c):\n",
    "    if b <= 2:\n",
    "        return (a ** b) % c \n",
    "    if b % 2 == 0:\n",
    "        x = mul(a, b//2, c) \n",
    "        x %= c\n",
    "        return x ** 2\n",
    "    else:\n",
    "        x = mul(a, (b-1)//2, c)\n",
    "        x %= c\n",
    "        return a * (x ** 2)\n",
    "    \n",
    "print(mul(A, B, C) % C)\n",
    "\n",
    "# input\n",
    "# 10\n",
    "# 11\n",
    "# 12"
   ]
  },
  {
   "cell_type": "markdown",
   "id": "fa37e50f-e083-4ae6-9d54-e2fbe8fc638c",
   "metadata": {},
   "source": [
    "`-` 힘들게 풀었는데... 파이썬에서 pow(a, b, c)하면 풀린다 하더라..."
   ]
  },
  {
   "cell_type": "code",
   "execution_count": 88,
   "id": "26541594-6314-4009-9ec1-3ef222d7aa24",
   "metadata": {},
   "outputs": [
    {
     "name": "stdin",
     "output_type": "stream",
     "text": [
      " 10 11 12\n"
     ]
    },
    {
     "name": "stdout",
     "output_type": "stream",
     "text": [
      "4\n"
     ]
    }
   ],
   "source": [
    "print(pow(*map(int, input().split())))"
   ]
  },
  {
   "cell_type": "code",
   "execution_count": null,
   "id": "8c2dad9f-88e0-437e-b0e3-aa9dbb89c692",
   "metadata": {},
   "outputs": [],
   "source": []
  }
 ],
 "metadata": {
  "kernelspec": {
   "display_name": "Python 3 (ipykernel)",
   "language": "python",
   "name": "python3"
  },
  "language_info": {
   "codemirror_mode": {
    "name": "ipython",
    "version": 3
   },
   "file_extension": ".py",
   "mimetype": "text/x-python",
   "name": "python",
   "nbconvert_exporter": "python",
   "pygments_lexer": "ipython3",
   "version": "3.8.11"
  }
 },
 "nbformat": 4,
 "nbformat_minor": 5
}
