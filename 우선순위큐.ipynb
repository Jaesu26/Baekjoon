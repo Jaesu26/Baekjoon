{
 "cells": [
  {
   "cell_type": "markdown",
   "id": "53919614-36aa-472e-a581-2aa9c21ea2d8",
   "metadata": {},
   "source": [
    "# 우선순위 큐(priority queue)"
   ]
  },
  {
   "cell_type": "markdown",
   "id": "9ef84702-65a8-471a-8c8f-102624de4e45",
   "metadata": {
    "tags": []
   },
   "source": [
    "## 최대 힙\n",
    "\n",
    "- 문제 출처: [백준 11279번](https://www.acmicpc.net/problem/11279)"
   ]
  },
  {
   "cell_type": "markdown",
   "id": "309142b3-3b5b-4498-b969-1af5274acc86",
   "metadata": {},
   "source": [
    "`-` heap 자료구조를 이용하면 된다\n",
    "\n",
    "`-` 파이썬에서 heap 자료구조는 heapq 모듈이 지원한다\n",
    "\n",
    "`-` 파이썬에서 heapq 모듈은 최소힙을 지원하니 수를 append할 때 마이너스(-)를 붙이자\n",
    "\n",
    "`-` 그러면 절대값이 큰 값이 최소값이 되고 다시 마이너스(-)를 붙이면 최대값이 된다\n",
    "\n",
    "`-` 그리고 input() 대신 sys.stdin.readline() 사용해야 됨\n",
    "\n",
    "`-` 주피터에서는 오류나서 제출할 때만 수정함"
   ]
  },
  {
   "cell_type": "code",
   "execution_count": 6,
   "id": "f7231860-0168-4702-9482-318aefa9a11c",
   "metadata": {},
   "outputs": [
    {
     "name": "stdin",
     "output_type": "stream",
     "text": [
      " 11\n",
      " 0\n"
     ]
    },
    {
     "name": "stdout",
     "output_type": "stream",
     "text": [
      "0\n"
     ]
    },
    {
     "name": "stdin",
     "output_type": "stream",
     "text": [
      " 1\n",
      " 2\n",
      " 0\n"
     ]
    },
    {
     "name": "stdout",
     "output_type": "stream",
     "text": [
      "2\n"
     ]
    },
    {
     "name": "stdin",
     "output_type": "stream",
     "text": [
      " 0\n"
     ]
    },
    {
     "name": "stdout",
     "output_type": "stream",
     "text": [
      "1\n"
     ]
    },
    {
     "name": "stdin",
     "output_type": "stream",
     "text": [
      " 3\n",
      " 2\n",
      " 1\n",
      " 0\n"
     ]
    },
    {
     "name": "stdout",
     "output_type": "stream",
     "text": [
      "3\n"
     ]
    },
    {
     "name": "stdin",
     "output_type": "stream",
     "text": [
      " 0\n"
     ]
    },
    {
     "name": "stdout",
     "output_type": "stream",
     "text": [
      "2\n"
     ]
    },
    {
     "name": "stdin",
     "output_type": "stream",
     "text": [
      " 0\n"
     ]
    },
    {
     "name": "stdout",
     "output_type": "stream",
     "text": [
      "1\n"
     ]
    }
   ],
   "source": [
    "import heapq\n",
    "\n",
    "N = int(input())\n",
    "heap = []\n",
    "\n",
    "for _ in range(N):\n",
    "    x = int(input())\n",
    "    \n",
    "    if x == 0:\n",
    "        if heap:\n",
    "            print(-heapq.heappop(heap))\n",
    "            \n",
    "        else:\n",
    "            print(0)\n",
    "    \n",
    "    else:\n",
    "        heapq.heappush(heap, -x)\n",
    "        \n",
    "# input\n",
    "# 11\n",
    "# 0\n",
    "# 1\n",
    "# 2\n",
    "# 0\n",
    "# 0\n",
    "# 3\n",
    "# 2\n",
    "# 1\n",
    "# 0\n",
    "# 0\n",
    "# 0"
   ]
  },
  {
   "cell_type": "markdown",
   "id": "6022629b-eae3-47ca-b705-01c668b1731c",
   "metadata": {},
   "source": [
    "## 최소 힙\n",
    "\n",
    "- 문제 출처: [백준 1927번](https://www.acmicpc.net/problem/1927)\n",
    "\n",
    "`-` 최대 힙 문제와 동일한 매커니즘이다"
   ]
  },
  {
   "cell_type": "code",
   "execution_count": 1,
   "id": "d3f1c583-0fbe-4a5a-a87e-0a17f0e78dfc",
   "metadata": {},
   "outputs": [
    {
     "name": "stdin",
     "output_type": "stream",
     "text": [
      " 9\n",
      " 0\n"
     ]
    },
    {
     "name": "stdout",
     "output_type": "stream",
     "text": [
      "0\n"
     ]
    },
    {
     "name": "stdin",
     "output_type": "stream",
     "text": [
      " 12345678\n",
      " 1\n",
      " 2\n",
      " 0\n"
     ]
    },
    {
     "name": "stdout",
     "output_type": "stream",
     "text": [
      "1\n"
     ]
    },
    {
     "name": "stdin",
     "output_type": "stream",
     "text": [
      " 0\n"
     ]
    },
    {
     "name": "stdout",
     "output_type": "stream",
     "text": [
      "2\n"
     ]
    },
    {
     "name": "stdin",
     "output_type": "stream",
     "text": [
      " 0\n"
     ]
    },
    {
     "name": "stdout",
     "output_type": "stream",
     "text": [
      "12345678\n"
     ]
    },
    {
     "name": "stdin",
     "output_type": "stream",
     "text": [
      " 0\n"
     ]
    },
    {
     "name": "stdout",
     "output_type": "stream",
     "text": [
      "0\n"
     ]
    },
    {
     "name": "stdin",
     "output_type": "stream",
     "text": [
      " 32\n"
     ]
    }
   ],
   "source": [
    "import heapq\n",
    "\n",
    "N = int(input())\n",
    "heap = []\n",
    "\n",
    "for _ in range(N):\n",
    "    x = int(input())\n",
    "    \n",
    "    if x == 0:\n",
    "        if heap:\n",
    "            print(heapq.heappop(heap))\n",
    "            \n",
    "        else:\n",
    "            print(0)\n",
    "    \n",
    "    else:\n",
    "        heapq.heappush(heap, x)\n",
    "        \n",
    "# input\n",
    "# 9\n",
    "# 0\n",
    "# 12345678\n",
    "# 1\n",
    "# 2\n",
    "# 0\n",
    "# 0\n",
    "# 0\n",
    "# 0\n",
    "# 32"
   ]
  },
  {
   "cell_type": "markdown",
   "id": "1451c4e9-1058-4ab3-9c4e-cd3c32c50bce",
   "metadata": {
    "tags": []
   },
   "source": [
    "## 절댓값 힙\n",
    "\n",
    "- 문제 출처: [백준 11286번](https://www.acmicpc.net/problem/11286)"
   ]
  },
  {
   "cell_type": "markdown",
   "id": "adfb3dc9-6bfc-43bf-8e23-ff8e0076e758",
   "metadata": {},
   "source": [
    "`-` heap 구조에 tuple형태로 push하면 첫번째원소를 기준으로 최소힙을 구성한다\n",
    "\n",
    "`-` 그리고 첫번째원소가 같으면 두번째원소가 더 작은 tuple이 부모노드가 된다"
   ]
  },
  {
   "cell_type": "code",
   "execution_count": 13,
   "id": "73660262-0e23-424c-9d85-112c45c82a08",
   "metadata": {},
   "outputs": [
    {
     "name": "stdin",
     "output_type": "stream",
     "text": [
      " 9\n",
      " 1\n",
      " -1\n",
      " 2\n",
      " -2\n",
      " 0\n"
     ]
    },
    {
     "name": "stdout",
     "output_type": "stream",
     "text": [
      "-1\n"
     ]
    },
    {
     "name": "stdin",
     "output_type": "stream",
     "text": [
      " 0\n"
     ]
    },
    {
     "name": "stdout",
     "output_type": "stream",
     "text": [
      "1\n"
     ]
    },
    {
     "name": "stdin",
     "output_type": "stream",
     "text": [
      " 0\n"
     ]
    },
    {
     "name": "stdout",
     "output_type": "stream",
     "text": [
      "-2\n"
     ]
    },
    {
     "name": "stdin",
     "output_type": "stream",
     "text": [
      " 0\n"
     ]
    },
    {
     "name": "stdout",
     "output_type": "stream",
     "text": [
      "2\n"
     ]
    },
    {
     "name": "stdin",
     "output_type": "stream",
     "text": [
      " 0\n"
     ]
    },
    {
     "name": "stdout",
     "output_type": "stream",
     "text": [
      "0\n"
     ]
    }
   ],
   "source": [
    "import heapq\n",
    "\n",
    "N = int(input())\n",
    "heap = []\n",
    "\n",
    "for _ in range(N):\n",
    "    x = int(input())\n",
    "    \n",
    "    if x == 0:\n",
    "        if heap:\n",
    "            print(heapq.heappop(heap)[1])\n",
    "            \n",
    "        else:\n",
    "            print(0)\n",
    "    \n",
    "    else:\n",
    "        heapq.heappush(heap, (abs(x), x))\n",
    "\n",
    "# input\n",
    "# 9\n",
    "# 1\n",
    "# -1\n",
    "# 2\n",
    "# -2\n",
    "# 0\n",
    "# 0\n",
    "# 0\n",
    "# 0\n",
    "# 0"
   ]
  },
  {
   "cell_type": "markdown",
   "id": "f7cb6b35-de19-4c2d-9695-14e9d2e98a63",
   "metadata": {},
   "source": [
    "## 가운데를 말해요\n",
    "\n",
    "- 문제 출처: [백준 1655번](https://www.acmicpc.net/problem/1655)"
   ]
  },
  {
   "cell_type": "markdown",
   "id": "4d7f0de7-a4ea-496f-96e9-eb417eef00e5",
   "metadata": {},
   "source": [
    "`-` 어떻게 풀지 감이 안잡혀서 질문검색 보고옴\n",
    "\n",
    "`-` 중앙값을 기준으로 두개의 힙을 관리하면 된다고 한다\n",
    "\n",
    "`-` 중앙값보다 큰쪽은 최소힙으로 작은쪽은 최대힙으로 만든다\n",
    "\n",
    "`-` 만약 큰쪽heap과 작은쪽heap 원소 개수가 동일하다고 해보자\n",
    "\n",
    "`-` input이 큰쪽heap에서 최소값보다 작으면 input을 작은쪽heap에 push하고 작은쪽heap에서 최대값이 중앙값이다\n",
    "\n",
    "`-` 크거나 같으면 input을 큰쪽heap에 push하고 큰쪽heap에서 최소값이 중앙값이다\n",
    "\n",
    "`-` 이번에는 큰쪽heap이 작은쪽heap원소 개수보다 1개가 더 많다고 해보자\n",
    "\n",
    "`-` input이 큰쪽heap에서 최소값보다 작으면 input을 작은쪽heap에 push하고 작은쪽heap에서 최대값이 중앙값이다\n",
    "\n",
    "`-` 크거나 같으면 input을 큰쪽heap에 push하고 큰쪽heap에서 pop한 원소를 작은쪽heap에 push하고 작은쪽heap에서 최대값이 중앙값이다\n",
    "\n",
    "`-` 이번에는 작은쪽heap이 큰쪽heap원소 개수보다 1개가 더 많다고 해보자\n",
    "\n",
    "`-` input이 큰쪽heap에서 최소값보다 크면 input을 큰쪽heap에 push하고 작은쪽heap에서 최대값이 중앙값이다\n",
    "\n",
    "`-` 작거나 같으면 input을 작은쪽heap에 push하고 작은쪽heap에서 pop한 원소를 큰쪽heap에 push하고 작은쪽heap에서 최대값이 중앙값이다\n",
    "\n",
    "`-` 틀린내용이 있을수도 있으니 정확한건 코드 확인하자"
   ]
  },
  {
   "cell_type": "code",
   "execution_count": 22,
   "id": "a45eb255-a80a-45a2-849c-0f082ccc89e9",
   "metadata": {},
   "outputs": [
    {
     "name": "stdin",
     "output_type": "stream",
     "text": [
      " 7\n",
      " 1\n"
     ]
    },
    {
     "name": "stdout",
     "output_type": "stream",
     "text": [
      "1\n"
     ]
    },
    {
     "name": "stdin",
     "output_type": "stream",
     "text": [
      " 5\n"
     ]
    },
    {
     "name": "stdout",
     "output_type": "stream",
     "text": [
      "1\n"
     ]
    },
    {
     "name": "stdin",
     "output_type": "stream",
     "text": [
      " 2\n"
     ]
    },
    {
     "name": "stdout",
     "output_type": "stream",
     "text": [
      "2\n"
     ]
    },
    {
     "name": "stdin",
     "output_type": "stream",
     "text": [
      " 10\n"
     ]
    },
    {
     "name": "stdout",
     "output_type": "stream",
     "text": [
      "2\n"
     ]
    },
    {
     "name": "stdin",
     "output_type": "stream",
     "text": [
      " -99\n"
     ]
    },
    {
     "name": "stdout",
     "output_type": "stream",
     "text": [
      "2\n"
     ]
    },
    {
     "name": "stdin",
     "output_type": "stream",
     "text": [
      " 7\n"
     ]
    },
    {
     "name": "stdout",
     "output_type": "stream",
     "text": [
      "2\n"
     ]
    },
    {
     "name": "stdin",
     "output_type": "stream",
     "text": [
      " 5\n"
     ]
    },
    {
     "name": "stdout",
     "output_type": "stream",
     "text": [
      "5\n"
     ]
    }
   ],
   "source": [
    "import heapq\n",
    "\n",
    "N = int(input())\n",
    "heap_down = []   # 최대힙\n",
    "heap_up = []   # 최소힙\n",
    "heapq.heappush(heap_up, int(input()))\n",
    "cnt = 0\n",
    "print(heap_up[0])\n",
    "\n",
    "if N > 1:\n",
    "    x = int(input())\n",
    "    \n",
    "    if x > heap_up[0]:\n",
    "        print(heap_up[0])\n",
    "        y = heapq.heappop(heap_up)\n",
    "        heapq.heappush(heap_down, (-y, y))\n",
    "        heapq.heappush(heap_up, x)\n",
    "    \n",
    "    else:\n",
    "        heapq.heappush(heap_down, (-x, x))\n",
    "        print(x)\n",
    "\n",
    "for _ in range(N-2):\n",
    "    x = int(input())\n",
    "    \n",
    "    if cnt == 0: # 개수 동일\n",
    "        if x < heap_up[0]:\n",
    "            heapq.heappush(heap_down, (-x, x))\n",
    "            print(heap_down[0][1])\n",
    "            cnt = -1\n",
    "            \n",
    "        else:\n",
    "            heapq.heappush(heap_up, x)\n",
    "            print(heap_up[0])\n",
    "            cnt = 1\n",
    "            \n",
    "    elif cnt == 1: # 큰쪽이 1개 더 많음\n",
    "        if x < heap_up[0]:\n",
    "            heapq.heappush(heap_down, (-x, x))\n",
    "            print(heap_down[0][1])\n",
    "            \n",
    "            \n",
    "        else:\n",
    "            y = heapq.heappop(heap_up)\n",
    "            heapq.heappush(heap_down, (-y, y))\n",
    "            heapq.heappush(heap_up, x)\n",
    "            print(y)\n",
    "            \n",
    "        cnt = 0\n",
    "            \n",
    "    else: # 작은쪽이 1개 더 많음(cnt == -1)\n",
    "        if x > heap_up[0]:\n",
    "            heapq.heappush(heap_up, x)\n",
    "            print(heap_down[0][1])\n",
    "            \n",
    "        else:\n",
    "            heapq.heappush(heap_down, (-x, x))\n",
    "            y = heapq.heappop(heap_down)[1]\n",
    "            heapq.heappush(heap_up, y)\n",
    "            print(heap_down[0][1]) # y가 아님\n",
    "            \n",
    "        cnt = 0\n",
    "\n",
    "# input\n",
    "# 7\n",
    "# 1\n",
    "# 5\n",
    "# 2\n",
    "# 10\n",
    "# -99\n",
    "# 7\n",
    "# 5"
   ]
  },
  {
   "cell_type": "markdown",
   "id": "6e4c37bb-a5d7-4846-85bf-a8bfcd81f14e",
   "metadata": {},
   "source": [
    "## 파일 합치기 3\n",
    "\n",
    "- 문제 출처: [백준 13975번](https://www.acmicpc.net/problem/13975)"
   ]
  },
  {
   "cell_type": "markdown",
   "id": "a64528d0-9b21-41eb-a66e-e83c82d73d57",
   "metadata": {},
   "source": [
    "`-` 최소비용을 얻기 위해서는 최소값을 2개씩 뽑아 더한 후 이를 다시 heap에 input하면 된다"
   ]
  },
  {
   "cell_type": "code",
   "execution_count": 88,
   "id": "df39cca5-792f-44ad-be0e-3acba3c9f531",
   "metadata": {},
   "outputs": [
    {
     "name": "stdin",
     "output_type": "stream",
     "text": [
      " 2\n",
      " 4\n",
      " 40 30 30 50\n"
     ]
    },
    {
     "name": "stdout",
     "output_type": "stream",
     "text": [
      "300\n"
     ]
    },
    {
     "name": "stdin",
     "output_type": "stream",
     "text": [
      " 15\n",
      " 1 21 3 4 5 35 5 4 3 5 98 21 14 17 32\n"
     ]
    },
    {
     "name": "stdout",
     "output_type": "stream",
     "text": [
      "826\n"
     ]
    }
   ],
   "source": [
    "import heapq\n",
    "\n",
    "T = int(input())\n",
    "for i in range(T):\n",
    "    x = 0\n",
    "    k = int(input())\n",
    "    heap = list(map(int, input().split()))\n",
    "    heapq.heapify(heap) ## 빼먹으면 안됨\n",
    "    \n",
    "    for _ in range(k-1):\n",
    "        a = heapq.heappop(heap)\n",
    "        b = heapq.heappop(heap) ## 최소값 2개를 뽑은 후 더한다\n",
    "        x += a + b\n",
    "        heapq.heappush(heap, a + b) ## 더한값을 다시 heap에 push한다\n",
    "        \n",
    "    print(x)\n",
    "    \n",
    "# input\n",
    "# 2\n",
    "# 4\n",
    "# 40 30 30 50\n",
    "# 15\n",
    "# 1 21 3 4 5 35 5 4 3 5 98 21 14 17 32"
   ]
  },
  {
   "cell_type": "code",
   "execution_count": null,
   "id": "2539a04b-c9b8-41eb-9ada-4599d249a439",
   "metadata": {},
   "outputs": [],
   "source": []
  }
 ],
 "metadata": {
  "kernelspec": {
   "display_name": "Python 3 (ipykernel)",
   "language": "python",
   "name": "python3"
  },
  "language_info": {
   "codemirror_mode": {
    "name": "ipython",
    "version": 3
   },
   "file_extension": ".py",
   "mimetype": "text/x-python",
   "name": "python",
   "nbconvert_exporter": "python",
   "pygments_lexer": "ipython3",
   "version": "3.8.11"
  }
 },
 "nbformat": 4,
 "nbformat_minor": 5
}
