{
 "cells": [
  {
   "cell_type": "markdown",
   "id": "3eedc94a-99f6-48aa-b949-0844aece9f50",
   "metadata": {},
   "source": [
    "# Hash Set"
   ]
  },
  {
   "cell_type": "markdown",
   "id": "ba8aacdf-a4b8-497a-bf43-98f5a6a12048",
   "metadata": {},
   "source": [
    "## 숫자카드 2\n",
    "\n",
    "- 문제 출처: [백준 10816번](https://www.acmicpc.net/problem/10816)"
   ]
  },
  {
   "cell_type": "markdown",
   "id": "890b3064-9bf6-40f2-b120-38bc34ebcba0",
   "metadata": {},
   "source": [
    "`-` 해시테이블로 해결했는데 그냥 배열로 풀어도 됨\n",
    "\n",
    "`-` 이분탐색도 된다"
   ]
  },
  {
   "cell_type": "code",
   "execution_count": 68,
   "id": "1ad9dca5-2637-404c-9330-77876f9f98ec",
   "metadata": {},
   "outputs": [
    {
     "name": "stdin",
     "output_type": "stream",
     "text": [
      " 10\n",
      " 6 3 2 10 10 10 -10 -10 7 3\n",
      " 8\n",
      " 10 9 -5 2 3 4 5 -10\n"
     ]
    },
    {
     "name": "stdout",
     "output_type": "stream",
     "text": [
      "3 0 0 1 2 0 0 2\n"
     ]
    }
   ],
   "source": [
    "n = int(input())\n",
    "nums = list(map(int, input().split()))\n",
    "m = int(input())\n",
    "nums2 = list(map(int, input().split()))\n",
    "dict_ = {} ## 빈 딕셔너리(해쉬테이블) 선언\n",
    "\n",
    "for num in nums:\n",
    "    if num not in dict_:\n",
    "        dict_[num] = 1 ## 처음 등장한 수는 1로 초기화\n",
    "    else:\n",
    "        dict_[num] += 1 ## 1번 등장할 때마다 1씩 더해준다\n",
    "        \n",
    "print(*[dict_[num] if num in dict_ else 0 for num in nums2]) ## 만약 nums2가 dict_에 존재하지 않으면 0으로 출력(당연함)\n",
    "\n",
    "# input\n",
    "# 10\n",
    "# 6 3 2 10 10 10 -10 -10 7 3\n",
    "# 8\n",
    "# 10 9 -5 2 3 4 5 -10"
   ]
  },
  {
   "cell_type": "markdown",
   "id": "6036e0e9-c0ce-4d35-b87b-e84cf60c0aab",
   "metadata": {},
   "source": [
    "## 비밀번호 찾기\n",
    "\n",
    "- 문제 출처: [백준 17219번](https://www.acmicpc.net/problem/17219)\n",
    "\n",
    "`-` 해시테이블을 사용하면 된다"
   ]
  },
  {
   "cell_type": "code",
   "execution_count": 5,
   "id": "f3f7e3f9-d5a1-47c7-bc24-e1cfd2b92cff",
   "metadata": {},
   "outputs": [
    {
     "name": "stdin",
     "output_type": "stream",
     "text": [
      " 2 1\n",
      " acmicpc.net UAENA\n",
      " noj.am IU\n",
      " noj.am\n"
     ]
    },
    {
     "name": "stdout",
     "output_type": "stream",
     "text": [
      "IU\n"
     ]
    }
   ],
   "source": [
    "dict_ = {}\n",
    "n, m = map(int, input().split())\n",
    "\n",
    "for i in range(n):\n",
    "    site, password = input().split()\n",
    "    dict_[site] = password\n",
    "    \n",
    "for j in range(m):\n",
    "    print(dict_[input()])\n",
    "    \n",
    "# input\n",
    "# 2 1\n",
    "# acmicpc.net UAENA\n",
    "# noj.am IU\n",
    "# noj.am    "
   ]
  },
  {
   "cell_type": "markdown",
   "id": "cc233be0-75a3-43e4-a254-b7065ca7f3cc",
   "metadata": {},
   "source": [
    "`-` `input()`대신에 `import sys`를 실행하고 `sys.stdin.readline().rstrip()`을 사용해야 된다"
   ]
  },
  {
   "cell_type": "code",
   "execution_count": null,
   "id": "d2b69f86-bc14-4e29-b36d-1ff27c0e45dc",
   "metadata": {},
   "outputs": [],
   "source": []
  }
 ],
 "metadata": {
  "kernelspec": {
   "display_name": "Python 3 (ipykernel)",
   "language": "python",
   "name": "python3"
  },
  "language_info": {
   "codemirror_mode": {
    "name": "ipython",
    "version": 3
   },
   "file_extension": ".py",
   "mimetype": "text/x-python",
   "name": "python",
   "nbconvert_exporter": "python",
   "pygments_lexer": "ipython3",
   "version": "3.8.11"
  }
 },
 "nbformat": 4,
 "nbformat_minor": 5
}
