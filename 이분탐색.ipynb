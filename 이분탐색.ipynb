{
 "cells": [
  {
   "cell_type": "markdown",
   "id": "597087fd-3e3e-4478-b195-83fa89c5705f",
   "metadata": {},
   "source": [
    "## 이분 탐색 "
   ]
  },
  {
   "cell_type": "markdown",
   "id": "0f13c9cf-67b9-405e-bb47-acfd03c13aee",
   "metadata": {},
   "source": [
    "## 나무 자르기\n",
    "- 문제 출처: [백준 2805번](https://www.acmicpc.net/problem/2805)"
   ]
  },
  {
   "cell_type": "markdown",
   "id": "9f2527b5-b226-4037-bb3e-c2637f1717e8",
   "metadata": {},
   "source": [
    "`-` 이진탐색으로 해결가능할 듯 하다 ---> 처음 푸는 유형이었음\n",
    "\n",
    "`-` 나무를 높이 순서로 오름차순 정렬한 후 0과 최대 나무 높이를 중간으로 나눠서 기준치를 넘는지 안넘는지를 판단함---> 1~100사이 랜덤 숫자 맞추듯이\n",
    "\n",
    "`-` 목표는 나무를 x미터 까지 잘랐을 땐 기준치 미달인데 x+1미터를 자르니 기준치를 넘기는 x+1을 찾는 것\n",
    "\n",
    "`-` 여러번 틀려서 디버깅 해보니 나무를 반으로 나누는데 최대값은 나무의 최대 높이로 하고 최소값은 나무의 최소 높이로 설정했었다\n",
    "\n",
    "`-` 위에 처럼하면 잘못됐는데 왜냐하면 이 문제의 해가 나무의 최소 높이보다 더 낮은 높이를 절단해야 하면 답이 나오지 않기 때문이다\n",
    "\n",
    "`-` ex) 나무가 3개 있고 높이가 각각 10 20 30이라 하고 필요한 나무는 10미터이라 하자\n",
    "\n",
    "`-` 이 경우는 잘못된 코드로 풀어도 가능함 ---> 왜냐면 정답이 20미터인데 20은 10과 30 사이 숫자이므로\n",
    "\n",
    "`-` 하지만 필요한 나무가 60미터라면 정답은 0미터여야 하지만 틀린 코드는 최소값 10과 최대값 30 사이를 이분탐색하므로 0이 나올 수 가 없음"
   ]
  },
  {
   "cell_type": "code",
   "execution_count": 77,
   "id": "c57d4e8b-ef85-4ee4-a137-34e478b496b5",
   "metadata": {},
   "outputs": [
    {
     "name": "stdin",
     "output_type": "stream",
     "text": [
      " 4 7\n",
      " 20 15 10 17\n"
     ]
    },
    {
     "name": "stdout",
     "output_type": "stream",
     "text": [
      "15\n"
     ]
    }
   ],
   "source": [
    "N, M = map(int, input().split())\n",
    "x = list(map(int, input().split()))\n",
    "x.sort()\n",
    "\n",
    "def trees_sum(h): ## 잘라서 나온 나무 높이의 합 구하기\n",
    "    _sum= 0\n",
    "    for i in range(N):\n",
    "        if x[i] > h:\n",
    "            _sum += x[i] - h\n",
    "    return _sum\n",
    "\n",
    "def cut(trees):\n",
    "    left = 0 ## 잘못된 코드는 left = trees[0] 나머지는 동일함\n",
    "    right = trees[-1]\n",
    "    mid = (left + right) // 2\n",
    "    sum_ = trees_sum(mid)\n",
    "            \n",
    "    while True:\n",
    "        if right - left < 2:\n",
    "            break\n",
    "                \n",
    "        if sum_ >= M:    \n",
    "            left = mid\n",
    "            mid = (left + right) // 2\n",
    "            sum_ = trees_sum(mid)  \n",
    "                \n",
    "        else:\n",
    "            right = mid\n",
    "            mid = (left + right) // 2\n",
    "            sum_ = trees_sum(mid)\n",
    "            \n",
    "    return mid\n",
    "\n",
    "print(cut(x))\n",
    "\n",
    "## input\n",
    "## 4 7\n",
    "## 20 15 10 17"
   ]
  },
  {
   "cell_type": "code",
   "execution_count": null,
   "id": "b789fdeb-5fd9-4447-9ce8-28150f76dbf9",
   "metadata": {},
   "outputs": [],
   "source": []
  }
 ],
 "metadata": {
  "kernelspec": {
   "display_name": "Python 3 (ipykernel)",
   "language": "python",
   "name": "python3"
  },
  "language_info": {
   "codemirror_mode": {
    "name": "ipython",
    "version": 3
   },
   "file_extension": ".py",
   "mimetype": "text/x-python",
   "name": "python",
   "nbconvert_exporter": "python",
   "pygments_lexer": "ipython3",
   "version": "3.8.11"
  }
 },
 "nbformat": 4,
 "nbformat_minor": 5
}
